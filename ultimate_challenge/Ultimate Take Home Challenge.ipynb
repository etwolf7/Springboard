{
 "cells": [
  {
   "cell_type": "markdown",
   "id": "b09f5868",
   "metadata": {},
   "source": [
    "# Part 1 - EDA"
   ]
  },
  {
   "cell_type": "markdown",
   "id": "d64b8835",
   "metadata": {},
   "source": [
    "The attached logins.json file contains (simulated) timestamps of user logins in a particular geographic location. Aggregate these login counts based on 15minute time intervals, and visualize and describe the resulting time series of login counts in ways that best characterize the underlying patterns of the demand. Please report/illustrate important features of the demand, such as daily cycles. If there are data quality issues, please report them."
   ]
  },
  {
   "cell_type": "markdown",
   "id": "21d9a7a2",
   "metadata": {},
   "source": [
    "## Response to Part 1"
   ]
  },
  {
   "cell_type": "code",
   "execution_count": 1,
   "id": "b9193c87",
   "metadata": {},
   "outputs": [],
   "source": [
    "#Import necessary packages\n",
    "import pandas as pd\n",
    "import numpy as np\n",
    "import os\n",
    "import matplotlib.pyplot as plt\n",
    "import seaborn as sns\n",
    "import scipy.stats as st\n",
    "import matplotlib.dates as mdates\n",
    "import warnings\n",
    "warnings.simplefilter(action='ignore', category=FutureWarning)"
   ]
  },
  {
   "cell_type": "code",
   "execution_count": 2,
   "id": "46825fa9",
   "metadata": {},
   "outputs": [],
   "source": [
    "#Load dataset\n",
    "df_logins = pd.read_json('logins.json', convert_dates=True)"
   ]
  },
  {
   "cell_type": "markdown",
   "id": "b0670bdd",
   "metadata": {},
   "source": [
    "#### Explore initial data set"
   ]
  },
  {
   "cell_type": "code",
   "execution_count": 3,
   "id": "fede005b",
   "metadata": {},
   "outputs": [
    {
     "data": {
      "text/html": [
       "<div>\n",
       "<style scoped>\n",
       "    .dataframe tbody tr th:only-of-type {\n",
       "        vertical-align: middle;\n",
       "    }\n",
       "\n",
       "    .dataframe tbody tr th {\n",
       "        vertical-align: top;\n",
       "    }\n",
       "\n",
       "    .dataframe thead th {\n",
       "        text-align: right;\n",
       "    }\n",
       "</style>\n",
       "<table border=\"1\" class=\"dataframe\">\n",
       "  <thead>\n",
       "    <tr style=\"text-align: right;\">\n",
       "      <th></th>\n",
       "      <th>login_time</th>\n",
       "    </tr>\n",
       "  </thead>\n",
       "  <tbody>\n",
       "    <tr>\n",
       "      <th>0</th>\n",
       "      <td>1970-01-01 20:13:18</td>\n",
       "    </tr>\n",
       "    <tr>\n",
       "      <th>1</th>\n",
       "      <td>1970-01-01 20:16:10</td>\n",
       "    </tr>\n",
       "    <tr>\n",
       "      <th>2</th>\n",
       "      <td>1970-01-01 20:16:37</td>\n",
       "    </tr>\n",
       "    <tr>\n",
       "      <th>3</th>\n",
       "      <td>1970-01-01 20:16:36</td>\n",
       "    </tr>\n",
       "    <tr>\n",
       "      <th>4</th>\n",
       "      <td>1970-01-01 20:26:21</td>\n",
       "    </tr>\n",
       "  </tbody>\n",
       "</table>\n",
       "</div>"
      ],
      "text/plain": [
       "           login_time\n",
       "0 1970-01-01 20:13:18\n",
       "1 1970-01-01 20:16:10\n",
       "2 1970-01-01 20:16:37\n",
       "3 1970-01-01 20:16:36\n",
       "4 1970-01-01 20:26:21"
      ]
     },
     "execution_count": 3,
     "metadata": {},
     "output_type": "execute_result"
    }
   ],
   "source": [
    "df_logins.head()"
   ]
  },
  {
   "cell_type": "code",
   "execution_count": 4,
   "id": "89eec47d",
   "metadata": {},
   "outputs": [
    {
     "name": "stdout",
     "output_type": "stream",
     "text": [
      "<class 'pandas.core.frame.DataFrame'>\n",
      "RangeIndex: 93142 entries, 0 to 93141\n",
      "Data columns (total 1 columns):\n",
      " #   Column      Non-Null Count  Dtype         \n",
      "---  ------      --------------  -----         \n",
      " 0   login_time  93142 non-null  datetime64[ns]\n",
      "dtypes: datetime64[ns](1)\n",
      "memory usage: 727.8 KB\n"
     ]
    }
   ],
   "source": [
    "df_logins.info()"
   ]
  },
  {
   "cell_type": "code",
   "execution_count": 5,
   "id": "2f20638a",
   "metadata": {},
   "outputs": [
    {
     "data": {
      "text/plain": [
       "login_time    0\n",
       "dtype: int64"
      ]
     },
     "execution_count": 5,
     "metadata": {},
     "output_type": "execute_result"
    }
   ],
   "source": [
    "df_logins.isnull().sum()"
   ]
  },
  {
   "cell_type": "code",
   "execution_count": 6,
   "id": "335ee78b",
   "metadata": {},
   "outputs": [
    {
     "data": {
      "text/plain": [
       "count                   93142\n",
       "unique                  92265\n",
       "top       1970-03-17 01:01:39\n",
       "freq                        3\n",
       "first     1970-01-01 20:12:16\n",
       "last      1970-04-13 18:57:38\n",
       "Name: login_time, dtype: object"
      ]
     },
     "execution_count": 6,
     "metadata": {},
     "output_type": "execute_result"
    }
   ],
   "source": [
    "df_logins['login_time'].describe()"
   ]
  },
  {
   "cell_type": "markdown",
   "id": "9814a45a",
   "metadata": {},
   "source": [
    "**Insight:** Preliminary analysis has revealed approximately 900 duplicate values present in the dataset, with the highest duplication frequency rate of 3. Due to the lack of information concerning the data collection process, there is a possibility that these duplications are not errors but may have occurred organically. Further analysis would be required to determine if these duplications need to be addressed."
   ]
  },
  {
   "cell_type": "markdown",
   "id": "e79bc031",
   "metadata": {},
   "source": [
    "#### Resampling dataset in 15 minute intervals and aggregating by count"
   ]
  },
  {
   "cell_type": "code",
   "execution_count": 7,
   "id": "153ed4c5",
   "metadata": {},
   "outputs": [],
   "source": [
    "#Set 'login_time' as the DataFrame index\n",
    "df_logins.set_index('login_time', inplace=True)"
   ]
  },
  {
   "cell_type": "code",
   "execution_count": 8,
   "id": "0e1ef557",
   "metadata": {},
   "outputs": [
    {
     "data": {
      "text/html": [
       "<div>\n",
       "<style scoped>\n",
       "    .dataframe tbody tr th:only-of-type {\n",
       "        vertical-align: middle;\n",
       "    }\n",
       "\n",
       "    .dataframe tbody tr th {\n",
       "        vertical-align: top;\n",
       "    }\n",
       "\n",
       "    .dataframe thead th {\n",
       "        text-align: right;\n",
       "    }\n",
       "</style>\n",
       "<table border=\"1\" class=\"dataframe\">\n",
       "  <thead>\n",
       "    <tr style=\"text-align: right;\">\n",
       "      <th></th>\n",
       "      <th>Logins</th>\n",
       "      <th>Count</th>\n",
       "    </tr>\n",
       "  </thead>\n",
       "  <tbody>\n",
       "    <tr>\n",
       "      <th>0</th>\n",
       "      <td>1970-01-01 20:00:00</td>\n",
       "      <td>2</td>\n",
       "    </tr>\n",
       "    <tr>\n",
       "      <th>1</th>\n",
       "      <td>1970-01-01 20:15:00</td>\n",
       "      <td>6</td>\n",
       "    </tr>\n",
       "    <tr>\n",
       "      <th>2</th>\n",
       "      <td>1970-01-01 20:30:00</td>\n",
       "      <td>9</td>\n",
       "    </tr>\n",
       "    <tr>\n",
       "      <th>3</th>\n",
       "      <td>1970-01-01 20:45:00</td>\n",
       "      <td>7</td>\n",
       "    </tr>\n",
       "    <tr>\n",
       "      <th>4</th>\n",
       "      <td>1970-01-01 21:00:00</td>\n",
       "      <td>1</td>\n",
       "    </tr>\n",
       "  </tbody>\n",
       "</table>\n",
       "</div>"
      ],
      "text/plain": [
       "               Logins  Count\n",
       "0 1970-01-01 20:00:00      2\n",
       "1 1970-01-01 20:15:00      6\n",
       "2 1970-01-01 20:30:00      9\n",
       "3 1970-01-01 20:45:00      7\n",
       "4 1970-01-01 21:00:00      1"
      ]
     },
     "execution_count": 8,
     "metadata": {},
     "output_type": "execute_result"
    }
   ],
   "source": [
    "df_logins['Count'] = 0\n",
    "\n",
    "#Resample and count logins in 15-minute intervals\n",
    "df = df_logins.resample('15T').count()\n",
    "\n",
    "#Reset index to have 'login_time' as a column\n",
    "df.reset_index(inplace=True)\n",
    "\n",
    "#Rename the 'login_time' column to 'logins'\n",
    "df.rename(columns={'login_time': 'Logins'}, inplace=True)\n",
    "\n",
    "df.head()"
   ]
  },
  {
   "cell_type": "markdown",
   "id": "13357f20",
   "metadata": {},
   "source": [
    "#### Further aggregating data to allow for clearer analysis"
   ]
  },
  {
   "cell_type": "code",
   "execution_count": 9,
   "id": "7f400c79",
   "metadata": {},
   "outputs": [
    {
     "data": {
      "text/html": [
       "<div>\n",
       "<style scoped>\n",
       "    .dataframe tbody tr th:only-of-type {\n",
       "        vertical-align: middle;\n",
       "    }\n",
       "\n",
       "    .dataframe tbody tr th {\n",
       "        vertical-align: top;\n",
       "    }\n",
       "\n",
       "    .dataframe thead th {\n",
       "        text-align: right;\n",
       "    }\n",
       "</style>\n",
       "<table border=\"1\" class=\"dataframe\">\n",
       "  <thead>\n",
       "    <tr style=\"text-align: right;\">\n",
       "      <th></th>\n",
       "      <th>Logins</th>\n",
       "      <th>Count</th>\n",
       "      <th>Day</th>\n",
       "      <th>Hour</th>\n",
       "    </tr>\n",
       "  </thead>\n",
       "  <tbody>\n",
       "    <tr>\n",
       "      <th>0</th>\n",
       "      <td>1970-01-01 20:00:00</td>\n",
       "      <td>2</td>\n",
       "      <td>Thursday</td>\n",
       "      <td>20</td>\n",
       "    </tr>\n",
       "    <tr>\n",
       "      <th>1</th>\n",
       "      <td>1970-01-01 20:15:00</td>\n",
       "      <td>6</td>\n",
       "      <td>Thursday</td>\n",
       "      <td>20</td>\n",
       "    </tr>\n",
       "    <tr>\n",
       "      <th>2</th>\n",
       "      <td>1970-01-01 20:30:00</td>\n",
       "      <td>9</td>\n",
       "      <td>Thursday</td>\n",
       "      <td>20</td>\n",
       "    </tr>\n",
       "    <tr>\n",
       "      <th>3</th>\n",
       "      <td>1970-01-01 20:45:00</td>\n",
       "      <td>7</td>\n",
       "      <td>Thursday</td>\n",
       "      <td>20</td>\n",
       "    </tr>\n",
       "    <tr>\n",
       "      <th>4</th>\n",
       "      <td>1970-01-01 21:00:00</td>\n",
       "      <td>1</td>\n",
       "      <td>Thursday</td>\n",
       "      <td>21</td>\n",
       "    </tr>\n",
       "  </tbody>\n",
       "</table>\n",
       "</div>"
      ],
      "text/plain": [
       "               Logins  Count       Day  Hour\n",
       "0 1970-01-01 20:00:00      2  Thursday    20\n",
       "1 1970-01-01 20:15:00      6  Thursday    20\n",
       "2 1970-01-01 20:30:00      9  Thursday    20\n",
       "3 1970-01-01 20:45:00      7  Thursday    20\n",
       "4 1970-01-01 21:00:00      1  Thursday    21"
      ]
     },
     "execution_count": 9,
     "metadata": {},
     "output_type": "execute_result"
    }
   ],
   "source": [
    "#Extract days and hours\n",
    "df['Day'] = df['Logins'].dt.day_name()\n",
    "df['Hour'] = df['Logins'].dt.hour\n",
    "\n",
    "#Check the result\n",
    "df.head()"
   ]
  },
  {
   "cell_type": "code",
   "execution_count": 10,
   "id": "e9501c06",
   "metadata": {},
   "outputs": [],
   "source": [
    "#Creating order for mapping\n",
    "day_order = {\n",
    "    'Monday': 1,\n",
    "    'Tuesday': 2,\n",
    "    'Wednesday': 3,\n",
    "    'Thursday': 4,\n",
    "    'Friday': 5,\n",
    "    'Saturday': 6,\n",
    "    'Sunday': 7\n",
    "}"
   ]
  },
  {
   "cell_type": "code",
   "execution_count": 11,
   "id": "0298a5cd",
   "metadata": {},
   "outputs": [],
   "source": [
    "#Mapping and sorting data\n",
    "df['Day_numeric'] = df['Day'].map(day_order)\n",
    "\n",
    "df_sorted = df.sort_values(by='Day_numeric')"
   ]
  },
  {
   "cell_type": "code",
   "execution_count": 12,
   "id": "00ae4cd8",
   "metadata": {},
   "outputs": [
    {
     "data": {
      "text/html": [
       "<div>\n",
       "<style scoped>\n",
       "    .dataframe tbody tr th:only-of-type {\n",
       "        vertical-align: middle;\n",
       "    }\n",
       "\n",
       "    .dataframe tbody tr th {\n",
       "        vertical-align: top;\n",
       "    }\n",
       "\n",
       "    .dataframe thead th {\n",
       "        text-align: right;\n",
       "    }\n",
       "</style>\n",
       "<table border=\"1\" class=\"dataframe\">\n",
       "  <thead>\n",
       "    <tr style=\"text-align: right;\">\n",
       "      <th></th>\n",
       "      <th>Logins</th>\n",
       "      <th>Count</th>\n",
       "      <th>Day</th>\n",
       "      <th>Hour</th>\n",
       "      <th>Day_numeric</th>\n",
       "    </tr>\n",
       "  </thead>\n",
       "  <tbody>\n",
       "    <tr>\n",
       "      <th>9787</th>\n",
       "      <td>1970-04-13 18:45:00</td>\n",
       "      <td>6</td>\n",
       "      <td>Monday</td>\n",
       "      <td>18</td>\n",
       "      <td>1</td>\n",
       "    </tr>\n",
       "    <tr>\n",
       "      <th>2387</th>\n",
       "      <td>1970-01-26 16:45:00</td>\n",
       "      <td>10</td>\n",
       "      <td>Monday</td>\n",
       "      <td>16</td>\n",
       "      <td>1</td>\n",
       "    </tr>\n",
       "    <tr>\n",
       "      <th>2386</th>\n",
       "      <td>1970-01-26 16:30:00</td>\n",
       "      <td>3</td>\n",
       "      <td>Monday</td>\n",
       "      <td>16</td>\n",
       "      <td>1</td>\n",
       "    </tr>\n",
       "    <tr>\n",
       "      <th>2385</th>\n",
       "      <td>1970-01-26 16:15:00</td>\n",
       "      <td>6</td>\n",
       "      <td>Monday</td>\n",
       "      <td>16</td>\n",
       "      <td>1</td>\n",
       "    </tr>\n",
       "    <tr>\n",
       "      <th>2384</th>\n",
       "      <td>1970-01-26 16:00:00</td>\n",
       "      <td>1</td>\n",
       "      <td>Monday</td>\n",
       "      <td>16</td>\n",
       "      <td>1</td>\n",
       "    </tr>\n",
       "  </tbody>\n",
       "</table>\n",
       "</div>"
      ],
      "text/plain": [
       "                  Logins  Count     Day  Hour  Day_numeric\n",
       "9787 1970-04-13 18:45:00      6  Monday    18            1\n",
       "2387 1970-01-26 16:45:00     10  Monday    16            1\n",
       "2386 1970-01-26 16:30:00      3  Monday    16            1\n",
       "2385 1970-01-26 16:15:00      6  Monday    16            1\n",
       "2384 1970-01-26 16:00:00      1  Monday    16            1"
      ]
     },
     "execution_count": 12,
     "metadata": {},
     "output_type": "execute_result"
    }
   ],
   "source": [
    "df_sorted.head()"
   ]
  },
  {
   "cell_type": "markdown",
   "id": "f9ac87c0",
   "metadata": {},
   "source": [
    "#### Analyzing data on a day of the week basis"
   ]
  },
  {
   "cell_type": "code",
   "execution_count": 13,
   "id": "fd6f02d3",
   "metadata": {},
   "outputs": [],
   "source": [
    "#Average daily logins per hour\n",
    "df_total = df_sorted.groupby(['Hour','Day']).mean().reset_index()"
   ]
  },
  {
   "cell_type": "code",
   "execution_count": 14,
   "id": "b6c6a167",
   "metadata": {},
   "outputs": [
    {
     "data": {
      "text/html": [
       "<div>\n",
       "<style scoped>\n",
       "    .dataframe tbody tr th:only-of-type {\n",
       "        vertical-align: middle;\n",
       "    }\n",
       "\n",
       "    .dataframe tbody tr th {\n",
       "        vertical-align: top;\n",
       "    }\n",
       "\n",
       "    .dataframe thead th {\n",
       "        text-align: right;\n",
       "    }\n",
       "</style>\n",
       "<table border=\"1\" class=\"dataframe\">\n",
       "  <thead>\n",
       "    <tr style=\"text-align: right;\">\n",
       "      <th></th>\n",
       "      <th>Hour</th>\n",
       "      <th>Day</th>\n",
       "      <th>Count</th>\n",
       "      <th>Day_numeric</th>\n",
       "    </tr>\n",
       "  </thead>\n",
       "  <tbody>\n",
       "    <tr>\n",
       "      <th>85</th>\n",
       "      <td>12</td>\n",
       "      <td>Monday</td>\n",
       "      <td>12.033333</td>\n",
       "      <td>1.0</td>\n",
       "    </tr>\n",
       "    <tr>\n",
       "      <th>113</th>\n",
       "      <td>16</td>\n",
       "      <td>Monday</td>\n",
       "      <td>4.150000</td>\n",
       "      <td>1.0</td>\n",
       "    </tr>\n",
       "    <tr>\n",
       "      <th>64</th>\n",
       "      <td>9</td>\n",
       "      <td>Monday</td>\n",
       "      <td>4.266667</td>\n",
       "      <td>1.0</td>\n",
       "    </tr>\n",
       "    <tr>\n",
       "      <th>29</th>\n",
       "      <td>4</td>\n",
       "      <td>Monday</td>\n",
       "      <td>3.433333</td>\n",
       "      <td>1.0</td>\n",
       "    </tr>\n",
       "    <tr>\n",
       "      <th>99</th>\n",
       "      <td>14</td>\n",
       "      <td>Monday</td>\n",
       "      <td>5.616667</td>\n",
       "      <td>1.0</td>\n",
       "    </tr>\n",
       "  </tbody>\n",
       "</table>\n",
       "</div>"
      ],
      "text/plain": [
       "     Hour     Day      Count  Day_numeric\n",
       "85     12  Monday  12.033333          1.0\n",
       "113    16  Monday   4.150000          1.0\n",
       "64      9  Monday   4.266667          1.0\n",
       "29      4  Monday   3.433333          1.0\n",
       "99     14  Monday   5.616667          1.0"
      ]
     },
     "execution_count": 14,
     "metadata": {},
     "output_type": "execute_result"
    }
   ],
   "source": [
    "df_total_sorted = df_total.sort_values(by='Day_numeric')\n",
    "df_total_sorted.head()"
   ]
  },
  {
   "cell_type": "markdown",
   "id": "7ebbb4ae",
   "metadata": {},
   "source": [
    "#### Visualizing data"
   ]
  },
  {
   "cell_type": "code",
   "execution_count": 15,
   "id": "49a862a1",
   "metadata": {},
   "outputs": [
    {
     "data": {
      "image/png": "[encoded data removed]",
      "text/plain": [
       "<Figure size 2000x700 with 1 Axes>"
      ]
     },
     "metadata": {},
     "output_type": "display_data"
    }
   ],
   "source": [
    "#plotting df\n",
    "f, axes = plt.subplots(figsize=(20,7))\n",
    "ax = sns.lineplot(x='Hour', y='Count', data=df_total_sorted, hue='Day')\n",
    "ax.legend(loc='upper right', ncol=8)\n",
    "ax.set(title='Average Daily Logins per Hour', ylabel='Average Count')\n",
    "plt.xticks(range(0,25))\n",
    "\n",
    "#display plot\n",
    "plt.show()"
   ]
  },
  {
   "cell_type": "markdown",
   "id": "65a928f9",
   "metadata": {},
   "source": [
    "**Insight:** There are separate cyclical trends on weekdays and weekends, with weekday spikes occurring around 11:00 and 22:00, and weekend spikes overnight leading to a peak around 4:00. Both weekday and weekend averages show a lull between 6:00 and 9:00."
   ]
  },
  {
   "cell_type": "code",
   "execution_count": 16,
   "id": "8e03e61c",
   "metadata": {},
   "outputs": [
    {
     "data": {
      "text/html": [
       "<div>\n",
       "<style scoped>\n",
       "    .dataframe tbody tr th:only-of-type {\n",
       "        vertical-align: middle;\n",
       "    }\n",
       "\n",
       "    .dataframe tbody tr th {\n",
       "        vertical-align: top;\n",
       "    }\n",
       "\n",
       "    .dataframe thead th {\n",
       "        text-align: right;\n",
       "    }\n",
       "</style>\n",
       "<table border=\"1\" class=\"dataframe\">\n",
       "  <thead>\n",
       "    <tr style=\"text-align: right;\">\n",
       "      <th></th>\n",
       "      <th>Day</th>\n",
       "      <th>Count</th>\n",
       "      <th>Daily_avg</th>\n",
       "      <th>Day_numeric</th>\n",
       "    </tr>\n",
       "  </thead>\n",
       "  <tbody>\n",
       "    <tr>\n",
       "      <th>1</th>\n",
       "      <td>Monday</td>\n",
       "      <td>8823</td>\n",
       "      <td>6.213380</td>\n",
       "      <td>1</td>\n",
       "    </tr>\n",
       "    <tr>\n",
       "      <th>5</th>\n",
       "      <td>Tuesday</td>\n",
       "      <td>9268</td>\n",
       "      <td>6.895833</td>\n",
       "      <td>2</td>\n",
       "    </tr>\n",
       "    <tr>\n",
       "      <th>6</th>\n",
       "      <td>Wednesday</td>\n",
       "      <td>10339</td>\n",
       "      <td>7.692708</td>\n",
       "      <td>3</td>\n",
       "    </tr>\n",
       "    <tr>\n",
       "      <th>4</th>\n",
       "      <td>Thursday</td>\n",
       "      <td>11960</td>\n",
       "      <td>8.794118</td>\n",
       "      <td>4</td>\n",
       "    </tr>\n",
       "    <tr>\n",
       "      <th>0</th>\n",
       "      <td>Friday</td>\n",
       "      <td>15208</td>\n",
       "      <td>10.561111</td>\n",
       "      <td>5</td>\n",
       "    </tr>\n",
       "    <tr>\n",
       "      <th>2</th>\n",
       "      <td>Saturday</td>\n",
       "      <td>19377</td>\n",
       "      <td>13.456250</td>\n",
       "      <td>6</td>\n",
       "    </tr>\n",
       "    <tr>\n",
       "      <th>3</th>\n",
       "      <td>Sunday</td>\n",
       "      <td>18167</td>\n",
       "      <td>12.615972</td>\n",
       "      <td>7</td>\n",
       "    </tr>\n",
       "  </tbody>\n",
       "</table>\n",
       "</div>"
      ],
      "text/plain": [
       "         Day  Count  Daily_avg  Day_numeric\n",
       "1     Monday   8823   6.213380            1\n",
       "5    Tuesday   9268   6.895833            2\n",
       "6  Wednesday  10339   7.692708            3\n",
       "4   Thursday  11960   8.794118            4\n",
       "0     Friday  15208  10.561111            5\n",
       "2   Saturday  19377  13.456250            6\n",
       "3     Sunday  18167  12.615972            7"
      ]
     },
     "execution_count": 16,
     "metadata": {},
     "output_type": "execute_result"
    }
   ],
   "source": [
    "#Total logins per day of week\n",
    "df_day = df.groupby('Day').sum()[['Count']]\n",
    "\n",
    "#Average daily logins per day of week\n",
    "df_day['Daily_avg'] = df_sorted.groupby('Day').mean()[['Count']]\n",
    "\n",
    "df_day = df_day.reset_index()\n",
    "\n",
    "df_day['Day_numeric'] = df_day['Day'].map(day_order)\n",
    "\n",
    "df_day_sorted = df_day.sort_values(by='Day_numeric')\n",
    "\n",
    "df_day_sorted.head(7)"
   ]
  },
  {
   "cell_type": "markdown",
   "id": "38a9249b",
   "metadata": {},
   "source": [
    "**Insight:** Daily averages for weekends show almost double the number of logins compared to weekdays, with a general upward trend throughout the week. This trend can be seen in the graph below."
   ]
  },
  {
   "cell_type": "code",
   "execution_count": 17,
   "id": "6ca67f12",
   "metadata": {},
   "outputs": [
    {
     "data": {
      "image/png": "[encoded data removed]",
      "text/plain": [
       "<Figure size 1000x700 with 1 Axes>"
      ]
     },
     "metadata": {},
     "output_type": "display_data"
    }
   ],
   "source": [
    "f, axes = plt.subplots(figsize=(10,7))\n",
    "ax = sns.barplot(x='Day', y= 'Daily_avg', data=df_day_sorted)\n",
    "ax.set(title='Average Daily Logins', ylabel='Average Daily Count')\n",
    "plt.show()"
   ]
  },
  {
   "cell_type": "markdown",
   "id": "0b4b235c",
   "metadata": {},
   "source": [
    "#### Analyzing overall data set trends"
   ]
  },
  {
   "cell_type": "code",
   "execution_count": 18,
   "id": "f4259114",
   "metadata": {},
   "outputs": [],
   "source": [
    "#Resampling on daily intervals\n",
    "df_daily = df_logins.resample('1D').count().reset_index()\n",
    "\n",
    "#Cleaning dataframe\n",
    "df_daily.index.name = 'idx'\n",
    "df_daily.reset_index(inplace=True)\n",
    "df_daily.rename({'login_time':'daily'}, axis=1, inplace=True)\n",
    "\n",
    "#Extracting months\n",
    "df_daily['month'] = df_daily['daily'].dt.month\n",
    "df_daily['month'] = df_daily['month'].map({1:'Jan', 2:'Feb', 3:'Mar', 4:'Apr'})\n"
   ]
  },
  {
   "cell_type": "code",
   "execution_count": 19,
   "id": "7034aecd",
   "metadata": {},
   "outputs": [
    {
     "data": {
      "text/html": [
       "<div>\n",
       "<style scoped>\n",
       "    .dataframe tbody tr th:only-of-type {\n",
       "        vertical-align: middle;\n",
       "    }\n",
       "\n",
       "    .dataframe tbody tr th {\n",
       "        vertical-align: top;\n",
       "    }\n",
       "\n",
       "    .dataframe thead th {\n",
       "        text-align: right;\n",
       "    }\n",
       "</style>\n",
       "<table border=\"1\" class=\"dataframe\">\n",
       "  <thead>\n",
       "    <tr style=\"text-align: right;\">\n",
       "      <th></th>\n",
       "      <th>idx</th>\n",
       "      <th>daily</th>\n",
       "      <th>Count</th>\n",
       "      <th>month</th>\n",
       "    </tr>\n",
       "  </thead>\n",
       "  <tbody>\n",
       "    <tr>\n",
       "      <th>0</th>\n",
       "      <td>0</td>\n",
       "      <td>1970-01-01</td>\n",
       "      <td>112</td>\n",
       "      <td>Jan</td>\n",
       "    </tr>\n",
       "    <tr>\n",
       "      <th>1</th>\n",
       "      <td>1</td>\n",
       "      <td>1970-01-02</td>\n",
       "      <td>681</td>\n",
       "      <td>Jan</td>\n",
       "    </tr>\n",
       "    <tr>\n",
       "      <th>2</th>\n",
       "      <td>2</td>\n",
       "      <td>1970-01-03</td>\n",
       "      <td>793</td>\n",
       "      <td>Jan</td>\n",
       "    </tr>\n",
       "    <tr>\n",
       "      <th>3</th>\n",
       "      <td>3</td>\n",
       "      <td>1970-01-04</td>\n",
       "      <td>788</td>\n",
       "      <td>Jan</td>\n",
       "    </tr>\n",
       "    <tr>\n",
       "      <th>4</th>\n",
       "      <td>4</td>\n",
       "      <td>1970-01-05</td>\n",
       "      <td>459</td>\n",
       "      <td>Jan</td>\n",
       "    </tr>\n",
       "  </tbody>\n",
       "</table>\n",
       "</div>"
      ],
      "text/plain": [
       "   idx      daily  Count month\n",
       "0    0 1970-01-01    112   Jan\n",
       "1    1 1970-01-02    681   Jan\n",
       "2    2 1970-01-03    793   Jan\n",
       "3    3 1970-01-04    788   Jan\n",
       "4    4 1970-01-05    459   Jan"
      ]
     },
     "execution_count": 19,
     "metadata": {},
     "output_type": "execute_result"
    }
   ],
   "source": [
    "df_daily.head()"
   ]
  },
  {
   "cell_type": "code",
   "execution_count": 20,
   "id": "539dbea2",
   "metadata": {},
   "outputs": [
    {
     "data": {
      "image/png": "[encoded data removed]",
      "text/plain": [
       "<Figure size 2000x700 with 1 Axes>"
      ]
     },
     "metadata": {},
     "output_type": "display_data"
    }
   ],
   "source": [
    "#plotting df\n",
    "f, axes = plt.subplots(figsize=(20,7))\n",
    "ax = sns.lineplot(x=\"daily\", y=\"Count\", data=df_daily, hue=\"month\", palette=\"rainbow\")\n",
    "ax.legend(loc=\"upper right\", ncol=5)\n",
    "ax.set(title=\"Daily Total Logins, YTD\", xlabel=\"Week #\")\n",
    "ax.xaxis.set_major_locator(mdates.DayLocator(interval=7))\n",
    "\n",
    "#display plot\n",
    "plt.show()"
   ]
  },
  {
   "cell_type": "markdown",
   "id": "66aa318a",
   "metadata": {},
   "source": [
    "**Insight:** The graph illustrates a weekly cyclical trend with a consistent upward trajectory in logins over the available time period. Notably, there is a sharp decline in logins after the first week of April, however due to lack of information after that point it is hard to know if this is normal fluctuation or a signficant alteration to the trend. Additionally, an unusual deviation from the trend is observed during the week of 3/19, which could be attributed to factors like a holiday, possibly spring break, within the serviced area."
   ]
  },
  {
   "cell_type": "markdown",
   "id": "0fb93398",
   "metadata": {},
   "source": [
    "# Part 2 - Experiment and Metrics Design"
   ]
  },
  {
   "cell_type": "markdown",
   "id": "7fd09748",
   "metadata": {},
   "source": [
    "The neighboring cities of Gotham and Metropolis have complementary circadian rhythms: on\n",
    "weekdays, Ultimate Gotham is most active at night, and Ultimate Metropolis is most active\n",
    "during the day. On weekends, there is reasonable activity in both cities.\n",
    "However, a toll bridge, with a two way toll, between the two cities causes driver partners to tend\n",
    "to be exclusive to each city. The Ultimate managers of city operations for the two cities have\n",
    "proposed an experiment to encourage driver partners to be available in both cities, by\n",
    "reimbursing all toll costs."
   ]
  },
  {
   "cell_type": "markdown",
   "id": "84a2d5e2",
   "metadata": {},
   "source": [
    "**1) What would you choose as the key measure of success of this experiment in encouraging driver partners to serve both cities, and why would you choose this metric?**"
   ]
  },
  {
   "cell_type": "markdown",
   "id": "bf16f917",
   "metadata": {},
   "source": [
    "The primary metric to determine the success of this experiment that I would choose would be the percentage change in fares reported by city drivers where either the pickup or dropoff locations are outside their city of origin. This particular metric offers several advantages in assessing the effectiveness of the toll reimbursement initiative, while also mitigating potential biases that might arise from other measurement approaches. This metric is an excellent choice because it directly captures the behavioral change that the experiment seeks to promote. By monitoring instances where drivers cross city boundaries for pickups or dropoffs, we can ascertain if they are becoming more willing to serve both Gotham and Metropolis. However, unlike solely tracking toll counts or fare prices, this metric ensures a more comprehensive assessment of driver inclusivity. It takes into account all instances where drivers venture beyond their home city, regardless of the number of toll crossings or the fare amount. This approach eliminates potential blind spots in the evaluation process.\n",
    "\n",
    "In summary, tracking the percentage increase in fares reported by city drivers involving cross-city pickups or dropoffs is a comprehensive, behavior-focused, and sustainable metric for evaluating the success of the toll reimbursement experiment. As it ensures that the experiment's objectives of promoting dual-city availability and reducing exclusivity are effectively met while accounting for weekend fluctuations and potential biases in other measurement approaches."
   ]
  },
  {
   "cell_type": "markdown",
   "id": "dc267fd6",
   "metadata": {},
   "source": [
    "**2) Describe a practical experiment you would design to compare the effectiveness of the proposed change in relation to the key measure of success. Please provide details on:**\n",
    "\n",
    "\n",
    "**a) how you will implement the experiment**\n",
    "\n",
    "\n",
    "**b) what statistical test(s) you will conduct to verify the significance of the observation**\n",
    "\n",
    "\n",
    "**c) how you would interpret the results and provide recommendations to the city operations team along with any caveats.**"
   ]
  },
  {
   "cell_type": "markdown",
   "id": "4aff2626",
   "metadata": {},
   "source": [
    "### Experimental Design:\n",
    "\n",
    "**a) Implementation of the Experiment:**\n",
    "1. **Baseline Data Collection**: Before implementing the toll reimbursement policy, collect historical data for a specific period (e.g., 3 months) to establish a baseline. This data should include information on fares reported by city drivers for in-city, alternate city, and cross-city pickups or dropoffs during the week.\n",
    "\n",
    "2. **Introduce Toll Reimbursement Policy**: Implement the toll reimbursement policy, ensuring that it is well-communicated to all driver partners in both cities. The policy should specify the conditions for reimbursement and the process for claiming it.\n",
    "\n",
    "3. **Post-Policy Data Collection**: After the policy has been in effect for a reasonable period (e.g., another 3 months), collect data on fares reported by city drivers for in-city, alternate city, and cross-city pickups or dropoffs during the week.\n",
    "\n",
    "**b) Statistical Tests:**\n",
    "To verify the significance of the observation, conduct the following statistical tests:\n",
    "\n",
    "1. **Paired T-Test**: Compare the mean percentage increase in fares reported by city drivers for in-city, alternate city, and cross-city trips before and after the introduction of the toll reimbursement policy. The combination of paired T-tests will determine whether the observed change is statistically significant.\n",
    "\n",
    "2. **Control Group Analysis**: If possible, establish a control group of drivers in a similar neighboring region without a toll reimbursement policy. Compare the change in in-city, alternate city, and cross-city fares in the experimental group (Gotham and Metropolis) to the change (or lack thereof) in the control group. Conduct an independent T-test to assess if the policy had a statistically significant impact compared to the control group.\n",
    "\n",
    "**c) Interpretation of Results and Recommendations:**\n",
    "Interpretation of the results should consider the following factors:\n",
    "\n",
    "1. **Statistical Significance**: If the paired T-tests and control group analysis show a statistically significant increase in cross-city fares after the toll reimbursement policy, it suggests that the policy is effective in encouraging driver partners to serve both cities.\n",
    "\n",
    "2. **Magnitude of Change**: Evaluate not only statistical significance but also the magnitude of the change. A small increase, while statistically significant, may have limited practical significance.\n",
    "\n",
    "3. **Caveats**: Consider potential confounding variables, such as changes in overall demand, seasonal variations, or external factors that could influence driver behavior.\n",
    "\n",
    "4. **Recommendations**: If the toll reimbursement policy is found to be effective, recommend its continuation and possibly further incentives to ensure sustained driver inclusivity. Additionally, consider periodic reviews to adjust the policy if necessary.\n",
    "\n",
    "5. **Caveats**: Emphasize the importance of ongoing monitoring and potential adjustments. The experiment may not capture all nuances of driver behavior, and other factors like driver preferences, local events, or economic conditions could affect results.\n",
    "\n",
    "In summary, this experiment with before-and-after data analysis and control group comparison, along with the specified statistical tests, will provide a robust assessment of the toll reimbursement policy's effectiveness. It will help the city's operations team make data-driven decisions regarding the policy's continuation and any necessary modifications while being mindful of potential limitations and external influences on driver behavior."
   ]
  },
  {
   "cell_type": "markdown",
   "id": "cb6f0c42",
   "metadata": {},
   "source": [
    "# Part 3 - Predictive Modeling"
   ]
  },
  {
   "cell_type": "markdown",
   "id": "20c92361",
   "metadata": {},
   "source": [
    "Ultimate is interested in predicting rider retention. To help explore this question, we have\n",
    "provided a sample dataset of a cohort of users who signed up for an Ultimate account in\n",
    "January 2014. The data was pulled several months later; we consider a user retained if they\n",
    "were “active” (i.e. took a trip) in the preceding 30 days.\n",
    "We would like you to use this data set to help understand what factors are the best predictors\n",
    "for retention, and offer suggestions to operationalize those insights to help Ultimate.\n",
    "The data is in the attached file ultimate_data_challenge.json. See below for a detailed\n",
    "description of the dataset. Please include any code you wrote for the analysis and delete the\n",
    "dataset when you have finished with the challenge.\n",
    "1. Perform any cleaning, exploratory analysis, and/or visualizations to use the provided\n",
    "data for this analysis (a few sentences/plots describing your approach will suffice). What\n",
    "fraction of the observed users were retained?\n",
    "2. Build a predictive model to help Ultimate determine whether or not a user will be active in\n",
    "their 6th month on the system. Discuss why you chose your approach, what alternatives\n",
    "you considered, and any concerns you have. How valid is your model? Include any key\n",
    "indicators of model performance.\n",
    "3. Briefly discuss how Ultimate might leverage the insights gained from the model to\n",
    "improve its long term rider retention (again, a few sentences will suffice)"
   ]
  },
  {
   "cell_type": "markdown",
   "id": "7b3cc50a",
   "metadata": {},
   "source": [
    "## Response to Part 3"
   ]
  },
  {
   "cell_type": "code",
   "execution_count": 21,
   "id": "9f8edd2b",
   "metadata": {},
   "outputs": [],
   "source": [
    "#Load dataset\n",
    "df = pd.read_json('ultimate_data_challenge.json', convert_dates=True)"
   ]
  },
  {
   "cell_type": "markdown",
   "id": "8d49dccc",
   "metadata": {},
   "source": [
    "### Inspect provided data"
   ]
  },
  {
   "cell_type": "code",
   "execution_count": 22,
   "id": "5a44510d",
   "metadata": {},
   "outputs": [
    {
     "data": {
      "text/html": [
       "<div>\n",
       "<style scoped>\n",
       "    .dataframe tbody tr th:only-of-type {\n",
       "        vertical-align: middle;\n",
       "    }\n",
       "\n",
       "    .dataframe tbody tr th {\n",
       "        vertical-align: top;\n",
       "    }\n",
       "\n",
       "    .dataframe thead th {\n",
       "        text-align: right;\n",
       "    }\n",
       "</style>\n",
       "<table border=\"1\" class=\"dataframe\">\n",
       "  <thead>\n",
       "    <tr style=\"text-align: right;\">\n",
       "      <th></th>\n",
       "      <th>city</th>\n",
       "      <th>trips_in_first_30_days</th>\n",
       "      <th>signup_date</th>\n",
       "      <th>avg_rating_of_driver</th>\n",
       "      <th>avg_surge</th>\n",
       "      <th>last_trip_date</th>\n",
       "      <th>phone</th>\n",
       "      <th>surge_pct</th>\n",
       "      <th>ultimate_black_user</th>\n",
       "      <th>weekday_pct</th>\n",
       "      <th>avg_dist</th>\n",
       "      <th>avg_rating_by_driver</th>\n",
       "    </tr>\n",
       "  </thead>\n",
       "  <tbody>\n",
       "    <tr>\n",
       "      <th>0</th>\n",
       "      <td>King's Landing</td>\n",
       "      <td>4</td>\n",
       "      <td>2014-01-25</td>\n",
       "      <td>4.7</td>\n",
       "      <td>1.10</td>\n",
       "      <td>2014-06-17</td>\n",
       "      <td>iPhone</td>\n",
       "      <td>15.4</td>\n",
       "      <td>True</td>\n",
       "      <td>46.2</td>\n",
       "      <td>3.67</td>\n",
       "      <td>5.0</td>\n",
       "    </tr>\n",
       "    <tr>\n",
       "      <th>1</th>\n",
       "      <td>Astapor</td>\n",
       "      <td>0</td>\n",
       "      <td>2014-01-29</td>\n",
       "      <td>5.0</td>\n",
       "      <td>1.00</td>\n",
       "      <td>2014-05-05</td>\n",
       "      <td>Android</td>\n",
       "      <td>0.0</td>\n",
       "      <td>False</td>\n",
       "      <td>50.0</td>\n",
       "      <td>8.26</td>\n",
       "      <td>5.0</td>\n",
       "    </tr>\n",
       "    <tr>\n",
       "      <th>2</th>\n",
       "      <td>Astapor</td>\n",
       "      <td>3</td>\n",
       "      <td>2014-01-06</td>\n",
       "      <td>4.3</td>\n",
       "      <td>1.00</td>\n",
       "      <td>2014-01-07</td>\n",
       "      <td>iPhone</td>\n",
       "      <td>0.0</td>\n",
       "      <td>False</td>\n",
       "      <td>100.0</td>\n",
       "      <td>0.77</td>\n",
       "      <td>5.0</td>\n",
       "    </tr>\n",
       "    <tr>\n",
       "      <th>3</th>\n",
       "      <td>King's Landing</td>\n",
       "      <td>9</td>\n",
       "      <td>2014-01-10</td>\n",
       "      <td>4.6</td>\n",
       "      <td>1.14</td>\n",
       "      <td>2014-06-29</td>\n",
       "      <td>iPhone</td>\n",
       "      <td>20.0</td>\n",
       "      <td>True</td>\n",
       "      <td>80.0</td>\n",
       "      <td>2.36</td>\n",
       "      <td>4.9</td>\n",
       "    </tr>\n",
       "    <tr>\n",
       "      <th>4</th>\n",
       "      <td>Winterfell</td>\n",
       "      <td>14</td>\n",
       "      <td>2014-01-27</td>\n",
       "      <td>4.4</td>\n",
       "      <td>1.19</td>\n",
       "      <td>2014-03-15</td>\n",
       "      <td>Android</td>\n",
       "      <td>11.8</td>\n",
       "      <td>False</td>\n",
       "      <td>82.4</td>\n",
       "      <td>3.13</td>\n",
       "      <td>4.9</td>\n",
       "    </tr>\n",
       "  </tbody>\n",
       "</table>\n",
       "</div>"
      ],
      "text/plain": [
       "             city  trips_in_first_30_days signup_date  avg_rating_of_driver  \\\n",
       "0  King's Landing                       4  2014-01-25                   4.7   \n",
       "1         Astapor                       0  2014-01-29                   5.0   \n",
       "2         Astapor                       3  2014-01-06                   4.3   \n",
       "3  King's Landing                       9  2014-01-10                   4.6   \n",
       "4      Winterfell                      14  2014-01-27                   4.4   \n",
       "\n",
       "   avg_surge last_trip_date    phone  surge_pct  ultimate_black_user  \\\n",
       "0       1.10     2014-06-17   iPhone       15.4                 True   \n",
       "1       1.00     2014-05-05  Android        0.0                False   \n",
       "2       1.00     2014-01-07   iPhone        0.0                False   \n",
       "3       1.14     2014-06-29   iPhone       20.0                 True   \n",
       "4       1.19     2014-03-15  Android       11.8                False   \n",
       "\n",
       "   weekday_pct  avg_dist  avg_rating_by_driver  \n",
       "0         46.2      3.67                   5.0  \n",
       "1         50.0      8.26                   5.0  \n",
       "2        100.0      0.77                   5.0  \n",
       "3         80.0      2.36                   4.9  \n",
       "4         82.4      3.13                   4.9  "
      ]
     },
     "execution_count": 22,
     "metadata": {},
     "output_type": "execute_result"
    }
   ],
   "source": [
    "df.head()"
   ]
  },
  {
   "cell_type": "code",
   "execution_count": 23,
   "id": "97744af7",
   "metadata": {},
   "outputs": [
    {
     "name": "stdout",
     "output_type": "stream",
     "text": [
      "<class 'pandas.core.frame.DataFrame'>\n",
      "RangeIndex: 50000 entries, 0 to 49999\n",
      "Data columns (total 12 columns):\n",
      " #   Column                  Non-Null Count  Dtype  \n",
      "---  ------                  --------------  -----  \n",
      " 0   city                    50000 non-null  object \n",
      " 1   trips_in_first_30_days  50000 non-null  int64  \n",
      " 2   signup_date             50000 non-null  object \n",
      " 3   avg_rating_of_driver    41878 non-null  float64\n",
      " 4   avg_surge               50000 non-null  float64\n",
      " 5   last_trip_date          50000 non-null  object \n",
      " 6   phone                   49604 non-null  object \n",
      " 7   surge_pct               50000 non-null  float64\n",
      " 8   ultimate_black_user     50000 non-null  bool   \n",
      " 9   weekday_pct             50000 non-null  float64\n",
      " 10  avg_dist                50000 non-null  float64\n",
      " 11  avg_rating_by_driver    49799 non-null  float64\n",
      "dtypes: bool(1), float64(6), int64(1), object(4)\n",
      "memory usage: 4.2+ MB\n"
     ]
    }
   ],
   "source": [
    "df.info()"
   ]
  },
  {
   "cell_type": "code",
   "execution_count": 24,
   "id": "ca5884ae",
   "metadata": {},
   "outputs": [
    {
     "data": {
      "text/plain": [
       "city                         0\n",
       "trips_in_first_30_days       0\n",
       "signup_date                  0\n",
       "avg_rating_of_driver      8122\n",
       "avg_surge                    0\n",
       "last_trip_date               0\n",
       "phone                      396\n",
       "surge_pct                    0\n",
       "ultimate_black_user          0\n",
       "weekday_pct                  0\n",
       "avg_dist                     0\n",
       "avg_rating_by_driver       201\n",
       "dtype: int64"
      ]
     },
     "execution_count": 24,
     "metadata": {},
     "output_type": "execute_result"
    }
   ],
   "source": [
    "df.isnull().sum()"
   ]
  },
  {
   "cell_type": "code",
   "execution_count": 25,
   "id": "5d8c80df",
   "metadata": {},
   "outputs": [
    {
     "data": {
      "text/html": [
       "<div>\n",
       "<style scoped>\n",
       "    .dataframe tbody tr th:only-of-type {\n",
       "        vertical-align: middle;\n",
       "    }\n",
       "\n",
       "    .dataframe tbody tr th {\n",
       "        vertical-align: top;\n",
       "    }\n",
       "\n",
       "    .dataframe thead th {\n",
       "        text-align: right;\n",
       "    }\n",
       "</style>\n",
       "<table border=\"1\" class=\"dataframe\">\n",
       "  <thead>\n",
       "    <tr style=\"text-align: right;\">\n",
       "      <th></th>\n",
       "      <th>trips_in_first_30_days</th>\n",
       "      <th>avg_rating_of_driver</th>\n",
       "      <th>avg_surge</th>\n",
       "      <th>surge_pct</th>\n",
       "      <th>weekday_pct</th>\n",
       "      <th>avg_dist</th>\n",
       "      <th>avg_rating_by_driver</th>\n",
       "    </tr>\n",
       "  </thead>\n",
       "  <tbody>\n",
       "    <tr>\n",
       "      <th>count</th>\n",
       "      <td>50000.000000</td>\n",
       "      <td>41878.000000</td>\n",
       "      <td>50000.000000</td>\n",
       "      <td>50000.000000</td>\n",
       "      <td>50000.000000</td>\n",
       "      <td>50000.000000</td>\n",
       "      <td>49799.000000</td>\n",
       "    </tr>\n",
       "    <tr>\n",
       "      <th>mean</th>\n",
       "      <td>2.278200</td>\n",
       "      <td>4.601559</td>\n",
       "      <td>1.074764</td>\n",
       "      <td>8.849536</td>\n",
       "      <td>60.926084</td>\n",
       "      <td>5.796827</td>\n",
       "      <td>4.778158</td>\n",
       "    </tr>\n",
       "    <tr>\n",
       "      <th>std</th>\n",
       "      <td>3.792684</td>\n",
       "      <td>0.617338</td>\n",
       "      <td>0.222336</td>\n",
       "      <td>19.958811</td>\n",
       "      <td>37.081503</td>\n",
       "      <td>5.707357</td>\n",
       "      <td>0.446652</td>\n",
       "    </tr>\n",
       "    <tr>\n",
       "      <th>min</th>\n",
       "      <td>0.000000</td>\n",
       "      <td>1.000000</td>\n",
       "      <td>1.000000</td>\n",
       "      <td>0.000000</td>\n",
       "      <td>0.000000</td>\n",
       "      <td>0.000000</td>\n",
       "      <td>1.000000</td>\n",
       "    </tr>\n",
       "    <tr>\n",
       "      <th>25%</th>\n",
       "      <td>0.000000</td>\n",
       "      <td>4.300000</td>\n",
       "      <td>1.000000</td>\n",
       "      <td>0.000000</td>\n",
       "      <td>33.300000</td>\n",
       "      <td>2.420000</td>\n",
       "      <td>4.700000</td>\n",
       "    </tr>\n",
       "    <tr>\n",
       "      <th>50%</th>\n",
       "      <td>1.000000</td>\n",
       "      <td>4.900000</td>\n",
       "      <td>1.000000</td>\n",
       "      <td>0.000000</td>\n",
       "      <td>66.700000</td>\n",
       "      <td>3.880000</td>\n",
       "      <td>5.000000</td>\n",
       "    </tr>\n",
       "    <tr>\n",
       "      <th>75%</th>\n",
       "      <td>3.000000</td>\n",
       "      <td>5.000000</td>\n",
       "      <td>1.050000</td>\n",
       "      <td>8.600000</td>\n",
       "      <td>100.000000</td>\n",
       "      <td>6.940000</td>\n",
       "      <td>5.000000</td>\n",
       "    </tr>\n",
       "    <tr>\n",
       "      <th>max</th>\n",
       "      <td>125.000000</td>\n",
       "      <td>5.000000</td>\n",
       "      <td>8.000000</td>\n",
       "      <td>100.000000</td>\n",
       "      <td>100.000000</td>\n",
       "      <td>160.960000</td>\n",
       "      <td>5.000000</td>\n",
       "    </tr>\n",
       "  </tbody>\n",
       "</table>\n",
       "</div>"
      ],
      "text/plain": [
       "       trips_in_first_30_days  avg_rating_of_driver     avg_surge  \\\n",
       "count            50000.000000          41878.000000  50000.000000   \n",
       "mean                 2.278200              4.601559      1.074764   \n",
       "std                  3.792684              0.617338      0.222336   \n",
       "min                  0.000000              1.000000      1.000000   \n",
       "25%                  0.000000              4.300000      1.000000   \n",
       "50%                  1.000000              4.900000      1.000000   \n",
       "75%                  3.000000              5.000000      1.050000   \n",
       "max                125.000000              5.000000      8.000000   \n",
       "\n",
       "          surge_pct   weekday_pct      avg_dist  avg_rating_by_driver  \n",
       "count  50000.000000  50000.000000  50000.000000          49799.000000  \n",
       "mean       8.849536     60.926084      5.796827              4.778158  \n",
       "std       19.958811     37.081503      5.707357              0.446652  \n",
       "min        0.000000      0.000000      0.000000              1.000000  \n",
       "25%        0.000000     33.300000      2.420000              4.700000  \n",
       "50%        0.000000     66.700000      3.880000              5.000000  \n",
       "75%        8.600000    100.000000      6.940000              5.000000  \n",
       "max      100.000000    100.000000    160.960000              5.000000  "
      ]
     },
     "execution_count": 25,
     "metadata": {},
     "output_type": "execute_result"
    }
   ],
   "source": [
    "df.describe()"
   ]
  },
  {
   "cell_type": "code",
   "execution_count": 26,
   "id": "a7b6ce56",
   "metadata": {},
   "outputs": [
    {
     "data": {
      "text/plain": [
       "'2014-01-01'"
      ]
     },
     "execution_count": 26,
     "metadata": {},
     "output_type": "execute_result"
    }
   ],
   "source": [
    "#First day of data collection for dataset\n",
    "df.signup_date.min()"
   ]
  },
  {
   "cell_type": "code",
   "execution_count": 27,
   "id": "3cf27d80",
   "metadata": {},
   "outputs": [
    {
     "data": {
      "text/plain": [
       "'2014-07-01'"
      ]
     },
     "execution_count": 27,
     "metadata": {},
     "output_type": "execute_result"
    }
   ],
   "source": [
    "#Last day of collection for dataset\n",
    "df.last_trip_date.max()"
   ]
  },
  {
   "cell_type": "markdown",
   "id": "080b7052",
   "metadata": {},
   "source": [
    "**Insight:** There is a total of 12 columns and 50,000 rows provided in the initial data set spaning a time frame of six months with the earlist date being 01/01/2014 and the latest being 07/01/2014. The average rating of driver, phone type, and average rating by driver have multiple missing or null values. Other categories do not appear to have missing, extranous, or null values at this point in time."
   ]
  },
  {
   "cell_type": "markdown",
   "id": "d435bbbc",
   "metadata": {},
   "source": [
    "### Format data for EDA"
   ]
  },
  {
   "cell_type": "code",
   "execution_count": 28,
   "id": "c3739577",
   "metadata": {},
   "outputs": [],
   "source": [
    "# Convert date column to datetime format\n",
    "df['signup_date'] = pd.to_datetime(df['signup_date'])\n",
    "df['last_trip_date'] = pd.to_datetime(df['last_trip_date'])"
   ]
  },
  {
   "cell_type": "code",
   "execution_count": 29,
   "id": "475be8ca",
   "metadata": {},
   "outputs": [
    {
     "data": {
      "text/html": [
       "<div>\n",
       "<style scoped>\n",
       "    .dataframe tbody tr th:only-of-type {\n",
       "        vertical-align: middle;\n",
       "    }\n",
       "\n",
       "    .dataframe tbody tr th {\n",
       "        vertical-align: top;\n",
       "    }\n",
       "\n",
       "    .dataframe thead th {\n",
       "        text-align: right;\n",
       "    }\n",
       "</style>\n",
       "<table border=\"1\" class=\"dataframe\">\n",
       "  <thead>\n",
       "    <tr style=\"text-align: right;\">\n",
       "      <th></th>\n",
       "      <th>city</th>\n",
       "      <th>trips_in_first_30_days</th>\n",
       "      <th>signup_date</th>\n",
       "      <th>avg_rating_of_driver</th>\n",
       "      <th>avg_surge</th>\n",
       "      <th>last_trip_date</th>\n",
       "      <th>phone</th>\n",
       "      <th>surge_pct</th>\n",
       "      <th>ultimate_black_user</th>\n",
       "      <th>weekday_pct</th>\n",
       "      <th>avg_dist</th>\n",
       "      <th>avg_rating_by_driver</th>\n",
       "      <th>activity_status</th>\n",
       "    </tr>\n",
       "  </thead>\n",
       "  <tbody>\n",
       "    <tr>\n",
       "      <th>0</th>\n",
       "      <td>King's Landing</td>\n",
       "      <td>4</td>\n",
       "      <td>2014-01-25</td>\n",
       "      <td>4.7</td>\n",
       "      <td>1.10</td>\n",
       "      <td>2014-06-17</td>\n",
       "      <td>iPhone</td>\n",
       "      <td>15.4</td>\n",
       "      <td>True</td>\n",
       "      <td>46.2</td>\n",
       "      <td>3.67</td>\n",
       "      <td>5.0</td>\n",
       "      <td>Active</td>\n",
       "    </tr>\n",
       "    <tr>\n",
       "      <th>1</th>\n",
       "      <td>Astapor</td>\n",
       "      <td>0</td>\n",
       "      <td>2014-01-29</td>\n",
       "      <td>5.0</td>\n",
       "      <td>1.00</td>\n",
       "      <td>2014-05-05</td>\n",
       "      <td>Android</td>\n",
       "      <td>0.0</td>\n",
       "      <td>False</td>\n",
       "      <td>50.0</td>\n",
       "      <td>8.26</td>\n",
       "      <td>5.0</td>\n",
       "      <td>Inactive</td>\n",
       "    </tr>\n",
       "    <tr>\n",
       "      <th>2</th>\n",
       "      <td>Astapor</td>\n",
       "      <td>3</td>\n",
       "      <td>2014-01-06</td>\n",
       "      <td>4.3</td>\n",
       "      <td>1.00</td>\n",
       "      <td>2014-01-07</td>\n",
       "      <td>iPhone</td>\n",
       "      <td>0.0</td>\n",
       "      <td>False</td>\n",
       "      <td>100.0</td>\n",
       "      <td>0.77</td>\n",
       "      <td>5.0</td>\n",
       "      <td>Inactive</td>\n",
       "    </tr>\n",
       "    <tr>\n",
       "      <th>3</th>\n",
       "      <td>King's Landing</td>\n",
       "      <td>9</td>\n",
       "      <td>2014-01-10</td>\n",
       "      <td>4.6</td>\n",
       "      <td>1.14</td>\n",
       "      <td>2014-06-29</td>\n",
       "      <td>iPhone</td>\n",
       "      <td>20.0</td>\n",
       "      <td>True</td>\n",
       "      <td>80.0</td>\n",
       "      <td>2.36</td>\n",
       "      <td>4.9</td>\n",
       "      <td>Active</td>\n",
       "    </tr>\n",
       "    <tr>\n",
       "      <th>4</th>\n",
       "      <td>Winterfell</td>\n",
       "      <td>14</td>\n",
       "      <td>2014-01-27</td>\n",
       "      <td>4.4</td>\n",
       "      <td>1.19</td>\n",
       "      <td>2014-03-15</td>\n",
       "      <td>Android</td>\n",
       "      <td>11.8</td>\n",
       "      <td>False</td>\n",
       "      <td>82.4</td>\n",
       "      <td>3.13</td>\n",
       "      <td>4.9</td>\n",
       "      <td>Inactive</td>\n",
       "    </tr>\n",
       "  </tbody>\n",
       "</table>\n",
       "</div>"
      ],
      "text/plain": [
       "             city  trips_in_first_30_days signup_date  avg_rating_of_driver  \\\n",
       "0  King's Landing                       4  2014-01-25                   4.7   \n",
       "1         Astapor                       0  2014-01-29                   5.0   \n",
       "2         Astapor                       3  2014-01-06                   4.3   \n",
       "3  King's Landing                       9  2014-01-10                   4.6   \n",
       "4      Winterfell                      14  2014-01-27                   4.4   \n",
       "\n",
       "   avg_surge last_trip_date    phone  surge_pct  ultimate_black_user  \\\n",
       "0       1.10     2014-06-17   iPhone       15.4                 True   \n",
       "1       1.00     2014-05-05  Android        0.0                False   \n",
       "2       1.00     2014-01-07   iPhone        0.0                False   \n",
       "3       1.14     2014-06-29   iPhone       20.0                 True   \n",
       "4       1.19     2014-03-15  Android       11.8                False   \n",
       "\n",
       "   weekday_pct  avg_dist  avg_rating_by_driver activity_status  \n",
       "0         46.2      3.67                   5.0          Active  \n",
       "1         50.0      8.26                   5.0        Inactive  \n",
       "2        100.0      0.77                   5.0        Inactive  \n",
       "3         80.0      2.36                   4.9          Active  \n",
       "4         82.4      3.13                   4.9        Inactive  "
      ]
     },
     "execution_count": 29,
     "metadata": {},
     "output_type": "execute_result"
    }
   ],
   "source": [
    "#Add a new column 'activity_status'\n",
    "cutoff_date = pd.to_datetime('2014-06-01')\n",
    "df['activity_status'] = df['last_trip_date'] >= cutoff_date\n",
    "\n",
    "#Convert boolean values to 'Active' or 'Inactive'\n",
    "df['activity_status'] = df['activity_status'].map({True: 'Active', False: 'Inactive'})\n",
    "\n",
    "df.head()"
   ]
  },
  {
   "cell_type": "markdown",
   "id": "7ae97e43",
   "metadata": {},
   "source": [
    "### Begin EDA"
   ]
  },
  {
   "cell_type": "code",
   "execution_count": 30,
   "id": "8ab518f1",
   "metadata": {},
   "outputs": [
    {
     "data": {
      "image/png": "[encoded data removed]",
      "text/plain": [
       "<Figure size 640x480 with 1 Axes>"
      ]
     },
     "metadata": {},
     "output_type": "display_data"
    }
   ],
   "source": [
    "#Presentation order\n",
    "order = ['Inactive', 'Active']  \n",
    "\n",
    "sns.countplot(data=df, x='activity_status', order=order)\n",
    "\n",
    "plt.show()\n"
   ]
  },
  {
   "cell_type": "code",
   "execution_count": 31,
   "id": "d9a8ed8a",
   "metadata": {},
   "outputs": [
    {
     "data": {
      "image/png": "[encoded data removed]",
      "text/plain": [
       "<Figure size 600x600 with 1 Axes>"
      ]
     },
     "metadata": {},
     "output_type": "display_data"
    }
   ],
   "source": [
    "#Count the number of active and inactive users\n",
    "activity_counts = df['activity_status'].value_counts()\n",
    "\n",
    "#Create a pie chart\n",
    "plt.figure(figsize=(6, 6))\n",
    "plt.pie(activity_counts, labels=activity_counts.index, autopct='%1.1f%%', startangle=90)\n",
    "plt.title('Activity Status')\n",
    "plt.axis('equal') \n",
    "\n",
    "plt.show()"
   ]
  },
  {
   "cell_type": "markdown",
   "id": "30074c9f",
   "metadata": {},
   "source": [
    "**Insight:** Activity status based on last trip date reveals an active population of 37.6%. Suggesting that the population of the dataset is slightly skewed towards inactive memebers. "
   ]
  },
  {
   "cell_type": "code",
   "execution_count": 32,
   "id": "60e6652b",
   "metadata": {},
   "outputs": [
    {
     "data": {
      "text/html": [
       "<div>\n",
       "<style scoped>\n",
       "    .dataframe tbody tr th:only-of-type {\n",
       "        vertical-align: middle;\n",
       "    }\n",
       "\n",
       "    .dataframe tbody tr th {\n",
       "        vertical-align: top;\n",
       "    }\n",
       "\n",
       "    .dataframe thead th {\n",
       "        text-align: right;\n",
       "    }\n",
       "</style>\n",
       "<table border=\"1\" class=\"dataframe\">\n",
       "  <thead>\n",
       "    <tr style=\"text-align: right;\">\n",
       "      <th></th>\n",
       "      <th>city</th>\n",
       "      <th>trips_in_first_30_days</th>\n",
       "      <th>signup_date</th>\n",
       "      <th>avg_rating_of_driver</th>\n",
       "      <th>avg_surge</th>\n",
       "      <th>last_trip_date</th>\n",
       "      <th>phone</th>\n",
       "      <th>surge_pct</th>\n",
       "      <th>ultimate_black_user</th>\n",
       "      <th>weekday_pct</th>\n",
       "      <th>avg_dist</th>\n",
       "      <th>avg_rating_by_driver</th>\n",
       "      <th>activity_status</th>\n",
       "      <th>membership_length</th>\n",
       "    </tr>\n",
       "  </thead>\n",
       "  <tbody>\n",
       "    <tr>\n",
       "      <th>0</th>\n",
       "      <td>King's Landing</td>\n",
       "      <td>4</td>\n",
       "      <td>2014-01-25</td>\n",
       "      <td>4.7</td>\n",
       "      <td>1.10</td>\n",
       "      <td>2014-06-17</td>\n",
       "      <td>iPhone</td>\n",
       "      <td>15.4</td>\n",
       "      <td>True</td>\n",
       "      <td>46.2</td>\n",
       "      <td>3.67</td>\n",
       "      <td>5.0</td>\n",
       "      <td>Active</td>\n",
       "      <td>143</td>\n",
       "    </tr>\n",
       "    <tr>\n",
       "      <th>1</th>\n",
       "      <td>Astapor</td>\n",
       "      <td>0</td>\n",
       "      <td>2014-01-29</td>\n",
       "      <td>5.0</td>\n",
       "      <td>1.00</td>\n",
       "      <td>2014-05-05</td>\n",
       "      <td>Android</td>\n",
       "      <td>0.0</td>\n",
       "      <td>False</td>\n",
       "      <td>50.0</td>\n",
       "      <td>8.26</td>\n",
       "      <td>5.0</td>\n",
       "      <td>Inactive</td>\n",
       "      <td>96</td>\n",
       "    </tr>\n",
       "    <tr>\n",
       "      <th>2</th>\n",
       "      <td>Astapor</td>\n",
       "      <td>3</td>\n",
       "      <td>2014-01-06</td>\n",
       "      <td>4.3</td>\n",
       "      <td>1.00</td>\n",
       "      <td>2014-01-07</td>\n",
       "      <td>iPhone</td>\n",
       "      <td>0.0</td>\n",
       "      <td>False</td>\n",
       "      <td>100.0</td>\n",
       "      <td>0.77</td>\n",
       "      <td>5.0</td>\n",
       "      <td>Inactive</td>\n",
       "      <td>1</td>\n",
       "    </tr>\n",
       "    <tr>\n",
       "      <th>3</th>\n",
       "      <td>King's Landing</td>\n",
       "      <td>9</td>\n",
       "      <td>2014-01-10</td>\n",
       "      <td>4.6</td>\n",
       "      <td>1.14</td>\n",
       "      <td>2014-06-29</td>\n",
       "      <td>iPhone</td>\n",
       "      <td>20.0</td>\n",
       "      <td>True</td>\n",
       "      <td>80.0</td>\n",
       "      <td>2.36</td>\n",
       "      <td>4.9</td>\n",
       "      <td>Active</td>\n",
       "      <td>170</td>\n",
       "    </tr>\n",
       "    <tr>\n",
       "      <th>4</th>\n",
       "      <td>Winterfell</td>\n",
       "      <td>14</td>\n",
       "      <td>2014-01-27</td>\n",
       "      <td>4.4</td>\n",
       "      <td>1.19</td>\n",
       "      <td>2014-03-15</td>\n",
       "      <td>Android</td>\n",
       "      <td>11.8</td>\n",
       "      <td>False</td>\n",
       "      <td>82.4</td>\n",
       "      <td>3.13</td>\n",
       "      <td>4.9</td>\n",
       "      <td>Inactive</td>\n",
       "      <td>47</td>\n",
       "    </tr>\n",
       "  </tbody>\n",
       "</table>\n",
       "</div>"
      ],
      "text/plain": [
       "             city  trips_in_first_30_days signup_date  avg_rating_of_driver  \\\n",
       "0  King's Landing                       4  2014-01-25                   4.7   \n",
       "1         Astapor                       0  2014-01-29                   5.0   \n",
       "2         Astapor                       3  2014-01-06                   4.3   \n",
       "3  King's Landing                       9  2014-01-10                   4.6   \n",
       "4      Winterfell                      14  2014-01-27                   4.4   \n",
       "\n",
       "   avg_surge last_trip_date    phone  surge_pct  ultimate_black_user  \\\n",
       "0       1.10     2014-06-17   iPhone       15.4                 True   \n",
       "1       1.00     2014-05-05  Android        0.0                False   \n",
       "2       1.00     2014-01-07   iPhone        0.0                False   \n",
       "3       1.14     2014-06-29   iPhone       20.0                 True   \n",
       "4       1.19     2014-03-15  Android       11.8                False   \n",
       "\n",
       "   weekday_pct  avg_dist  avg_rating_by_driver activity_status  \\\n",
       "0         46.2      3.67                   5.0          Active   \n",
       "1         50.0      8.26                   5.0        Inactive   \n",
       "2        100.0      0.77                   5.0        Inactive   \n",
       "3         80.0      2.36                   4.9          Active   \n",
       "4         82.4      3.13                   4.9        Inactive   \n",
       "\n",
       "   membership_length  \n",
       "0                143  \n",
       "1                 96  \n",
       "2                  1  \n",
       "3                170  \n",
       "4                 47  "
      ]
     },
     "execution_count": 32,
     "metadata": {},
     "output_type": "execute_result"
    }
   ],
   "source": [
    "#Add a new column 'membership_length'\n",
    "df['membership_length'] = (df['last_trip_date'] - df['signup_date']).dt.days\n",
    "\n",
    "df.head()"
   ]
  },
  {
   "cell_type": "code",
   "execution_count": 33,
   "id": "c9f929aa",
   "metadata": {},
   "outputs": [
    {
     "data": {
      "text/plain": [
       "count    50000.000000\n",
       "mean        92.790100\n",
       "std         62.129822\n",
       "min          0.000000\n",
       "25%         27.000000\n",
       "50%        110.000000\n",
       "75%        150.000000\n",
       "max        181.000000\n",
       "Name: membership_length, dtype: float64"
      ]
     },
     "execution_count": 33,
     "metadata": {},
     "output_type": "execute_result"
    }
   ],
   "source": [
    "df['membership_length'].describe()"
   ]
  },
  {
   "cell_type": "code",
   "execution_count": 34,
   "id": "2973ae3d",
   "metadata": {},
   "outputs": [
    {
     "data": {
      "text/plain": [
       "<AxesSubplot:xlabel='membership_length', ylabel='Count'>"
      ]
     },
     "execution_count": 34,
     "metadata": {},
     "output_type": "execute_result"
    },
    {
     "data": {
      "image/png": "[encoded data removed]",
      "text/plain": [
       "<Figure size 640x480 with 1 Axes>"
      ]
     },
     "metadata": {},
     "output_type": "display_data"
    }
   ],
   "source": [
    "sns.histplot(data=df, x='membership_length', bins=90)"
   ]
  },
  {
   "cell_type": "code",
   "execution_count": 35,
   "id": "0543261c",
   "metadata": {},
   "outputs": [
    {
     "data": {
      "text/plain": [
       "<AxesSubplot:xlabel='membership_length', ylabel='Count'>"
      ]
     },
     "execution_count": 35,
     "metadata": {},
     "output_type": "execute_result"
    },
    {
     "data": {
      "image/png": "[encoded data removed]",
      "text/plain": [
       "<Figure size 640x480 with 1 Axes>"
      ]
     },
     "metadata": {},
     "output_type": "display_data"
    }
   ],
   "source": [
    "sns.histplot(data=df, x='membership_length', bins=90, hue='city')"
   ]
  },
  {
   "cell_type": "markdown",
   "id": "2f3bf655",
   "metadata": {},
   "source": [
    "**Insight:** The analysis of ridership length uncovers a fascinating bimodal distribution, indicating the presence of two distinct clusters within the user base. The first cluster exhibits a notable spike, prominently concentrated around the one-day mark, while the second cluster reappears with remarkable density at approximately 160 days.\n",
    "\n",
    "This intriguing pattern hints at the need for a nuanced approach to user retention strategies. Specifically, it suggests the importance of addressing both early engagement efforts, aimed at enhancing user commitment during their initial interaction with the program, as well as more extended-term strategies to keep users engaged and active over the longer span of 160 days.\n",
    "\n",
    "To harness the full potential of this insight, it may be beneficial to delve deeper into each cluster, understanding the distinct behaviors, preferences, and pain points of users in these two groups. Tailoring retention initiatives to suit the needs of users within each cluster could be a key strategy for optimizing the program's long-term success."
   ]
  },
  {
   "cell_type": "code",
   "execution_count": 36,
   "id": "8b738684",
   "metadata": {},
   "outputs": [
    {
     "data": {
      "text/html": [
       "<div>\n",
       "<style scoped>\n",
       "    .dataframe tbody tr th:only-of-type {\n",
       "        vertical-align: middle;\n",
       "    }\n",
       "\n",
       "    .dataframe tbody tr th {\n",
       "        vertical-align: top;\n",
       "    }\n",
       "\n",
       "    .dataframe thead th {\n",
       "        text-align: right;\n",
       "    }\n",
       "</style>\n",
       "<table border=\"1\" class=\"dataframe\">\n",
       "  <thead>\n",
       "    <tr style=\"text-align: right;\">\n",
       "      <th></th>\n",
       "      <th>city</th>\n",
       "      <th>trips_in_first_30_days</th>\n",
       "      <th>signup_date</th>\n",
       "      <th>avg_rating_of_driver</th>\n",
       "      <th>avg_surge</th>\n",
       "      <th>last_trip_date</th>\n",
       "      <th>phone</th>\n",
       "      <th>surge_pct</th>\n",
       "      <th>ultimate_black_user</th>\n",
       "      <th>weekday_pct</th>\n",
       "      <th>avg_dist</th>\n",
       "      <th>avg_rating_by_driver</th>\n",
       "      <th>activity_status</th>\n",
       "      <th>membership_length</th>\n",
       "      <th>six_month_activity_status</th>\n",
       "    </tr>\n",
       "  </thead>\n",
       "  <tbody>\n",
       "    <tr>\n",
       "      <th>0</th>\n",
       "      <td>King's Landing</td>\n",
       "      <td>4</td>\n",
       "      <td>2014-01-25</td>\n",
       "      <td>4.7</td>\n",
       "      <td>1.10</td>\n",
       "      <td>2014-06-17</td>\n",
       "      <td>iPhone</td>\n",
       "      <td>15.4</td>\n",
       "      <td>True</td>\n",
       "      <td>46.2</td>\n",
       "      <td>3.67</td>\n",
       "      <td>5.0</td>\n",
       "      <td>Active</td>\n",
       "      <td>143</td>\n",
       "      <td>Inactive</td>\n",
       "    </tr>\n",
       "    <tr>\n",
       "      <th>1</th>\n",
       "      <td>Astapor</td>\n",
       "      <td>0</td>\n",
       "      <td>2014-01-29</td>\n",
       "      <td>5.0</td>\n",
       "      <td>1.00</td>\n",
       "      <td>2014-05-05</td>\n",
       "      <td>Android</td>\n",
       "      <td>0.0</td>\n",
       "      <td>False</td>\n",
       "      <td>50.0</td>\n",
       "      <td>8.26</td>\n",
       "      <td>5.0</td>\n",
       "      <td>Inactive</td>\n",
       "      <td>96</td>\n",
       "      <td>Inactive</td>\n",
       "    </tr>\n",
       "    <tr>\n",
       "      <th>2</th>\n",
       "      <td>Astapor</td>\n",
       "      <td>3</td>\n",
       "      <td>2014-01-06</td>\n",
       "      <td>4.3</td>\n",
       "      <td>1.00</td>\n",
       "      <td>2014-01-07</td>\n",
       "      <td>iPhone</td>\n",
       "      <td>0.0</td>\n",
       "      <td>False</td>\n",
       "      <td>100.0</td>\n",
       "      <td>0.77</td>\n",
       "      <td>5.0</td>\n",
       "      <td>Inactive</td>\n",
       "      <td>1</td>\n",
       "      <td>Inactive</td>\n",
       "    </tr>\n",
       "    <tr>\n",
       "      <th>3</th>\n",
       "      <td>King's Landing</td>\n",
       "      <td>9</td>\n",
       "      <td>2014-01-10</td>\n",
       "      <td>4.6</td>\n",
       "      <td>1.14</td>\n",
       "      <td>2014-06-29</td>\n",
       "      <td>iPhone</td>\n",
       "      <td>20.0</td>\n",
       "      <td>True</td>\n",
       "      <td>80.0</td>\n",
       "      <td>2.36</td>\n",
       "      <td>4.9</td>\n",
       "      <td>Active</td>\n",
       "      <td>170</td>\n",
       "      <td>Active</td>\n",
       "    </tr>\n",
       "    <tr>\n",
       "      <th>4</th>\n",
       "      <td>Winterfell</td>\n",
       "      <td>14</td>\n",
       "      <td>2014-01-27</td>\n",
       "      <td>4.4</td>\n",
       "      <td>1.19</td>\n",
       "      <td>2014-03-15</td>\n",
       "      <td>Android</td>\n",
       "      <td>11.8</td>\n",
       "      <td>False</td>\n",
       "      <td>82.4</td>\n",
       "      <td>3.13</td>\n",
       "      <td>4.9</td>\n",
       "      <td>Inactive</td>\n",
       "      <td>47</td>\n",
       "      <td>Inactive</td>\n",
       "    </tr>\n",
       "  </tbody>\n",
       "</table>\n",
       "</div>"
      ],
      "text/plain": [
       "             city  trips_in_first_30_days signup_date  avg_rating_of_driver  \\\n",
       "0  King's Landing                       4  2014-01-25                   4.7   \n",
       "1         Astapor                       0  2014-01-29                   5.0   \n",
       "2         Astapor                       3  2014-01-06                   4.3   \n",
       "3  King's Landing                       9  2014-01-10                   4.6   \n",
       "4      Winterfell                      14  2014-01-27                   4.4   \n",
       "\n",
       "   avg_surge last_trip_date    phone  surge_pct  ultimate_black_user  \\\n",
       "0       1.10     2014-06-17   iPhone       15.4                 True   \n",
       "1       1.00     2014-05-05  Android        0.0                False   \n",
       "2       1.00     2014-01-07   iPhone        0.0                False   \n",
       "3       1.14     2014-06-29   iPhone       20.0                 True   \n",
       "4       1.19     2014-03-15  Android       11.8                False   \n",
       "\n",
       "   weekday_pct  avg_dist  avg_rating_by_driver activity_status  \\\n",
       "0         46.2      3.67                   5.0          Active   \n",
       "1         50.0      8.26                   5.0        Inactive   \n",
       "2        100.0      0.77                   5.0        Inactive   \n",
       "3         80.0      2.36                   4.9          Active   \n",
       "4         82.4      3.13                   4.9        Inactive   \n",
       "\n",
       "   membership_length six_month_activity_status  \n",
       "0                143                  Inactive  \n",
       "1                 96                  Inactive  \n",
       "2                  1                  Inactive  \n",
       "3                170                    Active  \n",
       "4                 47                  Inactive  "
      ]
     },
     "execution_count": 36,
     "metadata": {},
     "output_type": "execute_result"
    }
   ],
   "source": [
    "#Add a new column 'six_month_activity_status'\n",
    "df['six_month_activity_status'] = df['membership_length'] >= 150\n",
    "\n",
    "#Convert boolean values to 'Active' or 'Inactive'\n",
    "df['six_month_activity_status'] = df['six_month_activity_status'].map({True: 'Active', False: 'Inactive'})\n",
    "\n",
    "df.head()"
   ]
  },
  {
   "cell_type": "code",
   "execution_count": 37,
   "id": "dba11b3f",
   "metadata": {},
   "outputs": [
    {
     "data": {
      "text/plain": [
       "count        50000\n",
       "unique           2\n",
       "top       Inactive\n",
       "freq         37286\n",
       "Name: six_month_activity_status, dtype: object"
      ]
     },
     "execution_count": 37,
     "metadata": {},
     "output_type": "execute_result"
    }
   ],
   "source": [
    "df['six_month_activity_status'].describe()"
   ]
  },
  {
   "cell_type": "code",
   "execution_count": 38,
   "id": "8042f009",
   "metadata": {},
   "outputs": [
    {
     "name": "stdout",
     "output_type": "stream",
     "text": [
      "Number of memberships with duration >= 150: 12714\n"
     ]
    }
   ],
   "source": [
    "#Count the number of rows where 'membership_length' is >= 150\n",
    "count_greater_than_150 = (df['membership_length'] >= 150).sum()\n",
    "\n",
    "print(\"Number of memberships with duration >= 150:\", count_greater_than_150)"
   ]
  },
  {
   "cell_type": "code",
   "execution_count": 39,
   "id": "c38f4ef5",
   "metadata": {},
   "outputs": [
    {
     "data": {
      "image/png": "[encoded data removed]",
      "text/plain": [
       "<Figure size 600x600 with 1 Axes>"
      ]
     },
     "metadata": {},
     "output_type": "display_data"
    }
   ],
   "source": [
    "#Count the number of active and inactive users\n",
    "activity_counts = df['six_month_activity_status'].value_counts()\n",
    "\n",
    "#Create a pie chart\n",
    "plt.figure(figsize=(6, 6))\n",
    "plt.pie(activity_counts, labels=activity_counts.index, autopct='%1.1f%%', startangle=90)\n",
    "plt.title('Six Month Activity Status')\n",
    "plt.axis('equal') \n",
    "\n",
    "plt.show()"
   ]
  },
  {
   "cell_type": "code",
   "execution_count": 40,
   "id": "c9f4f644",
   "metadata": {},
   "outputs": [
    {
     "data": {
      "text/plain": [
       "<AxesSubplot:xlabel='six_month_activity_status', ylabel='count'>"
      ]
     },
     "execution_count": 40,
     "metadata": {},
     "output_type": "execute_result"
    },
    {
     "data": {
      "image/png": "[encoded data removed]",
      "text/plain": [
       "<Figure size 640x480 with 1 Axes>"
      ]
     },
     "metadata": {},
     "output_type": "display_data"
    }
   ],
   "source": [
    "sns.countplot(data=df, x='six_month_activity_status', order=order)"
   ]
  },
  {
   "cell_type": "markdown",
   "id": "779121d8",
   "metadata": {},
   "source": [
    "**Insight** When plotting the six-month activity status, it becomes evident that only 25.4% of the dataset corresponds to active riders. This observation highlights a significant imbalance in favor of inactive riders and indicates the potential need for rebalancing the dataset or adjusting class weights to enhance the accuracy of predicting six-month retainership.\" "
   ]
  },
  {
   "cell_type": "code",
   "execution_count": 41,
   "id": "6827785e",
   "metadata": {},
   "outputs": [
    {
     "data": {
      "text/plain": [
       "<AxesSubplot:xlabel='city', ylabel='count'>"
      ]
     },
     "execution_count": 41,
     "metadata": {},
     "output_type": "execute_result"
    },
    {
     "data": {
      "image/png": "[encoded data removed]",
      "text/plain": [
       "<Figure size 640x480 with 1 Axes>"
      ]
     },
     "metadata": {},
     "output_type": "display_data"
    }
   ],
   "source": [
    "sns.countplot(data=df, x='city', hue='activity_status', hue_order=order)"
   ]
  },
  {
   "cell_type": "code",
   "execution_count": 42,
   "id": "b1a9a79c",
   "metadata": {},
   "outputs": [
    {
     "data": {
      "text/plain": [
       "<AxesSubplot:xlabel='city', ylabel='count'>"
      ]
     },
     "execution_count": 42,
     "metadata": {},
     "output_type": "execute_result"
    },
    {
     "data": {
      "image/png": "[encoded data removed]",
      "text/plain": [
       "<Figure size 640x480 with 1 Axes>"
      ]
     },
     "metadata": {},
     "output_type": "display_data"
    }
   ],
   "source": [
    "sns.countplot(data=df, x='city', hue='six_month_activity_status', hue_order=order)"
   ]
  },
  {
   "cell_type": "markdown",
   "id": "139e7af3",
   "metadata": {},
   "source": [
    "**Insight** While overall ridership seems to be highest in Winterfell, the proportion of active ridership in King's Landing is the most balanced. This suggests that efforts in Winterfell to encourage ridership may be the most effective, while focusing on retaining riders in King's Landing could be more impactful."
   ]
  },
  {
   "cell_type": "markdown",
   "id": "ae994ba0",
   "metadata": {},
   "source": [
    "### Preprocessing"
   ]
  },
  {
   "cell_type": "code",
   "execution_count": 43,
   "id": "5d5bb225",
   "metadata": {},
   "outputs": [],
   "source": [
    "df = df.drop(columns = ['last_trip_date', 'signup_date', 'membership_length'])"
   ]
  },
  {
   "cell_type": "code",
   "execution_count": 44,
   "id": "28cfa787",
   "metadata": {},
   "outputs": [],
   "source": [
    "#Replace avg_rating_by_driver null values with mean\n",
    "mean = df['avg_rating_by_driver'].mean()\n",
    "rating = lambda row: mean if np.isnan(row) else row\n",
    "df['avg_rating_by_driver'] = df['avg_rating_by_driver'].apply(rating)\n",
    "\n",
    "#Replace avg_rating_of_driver null values with mean\n",
    "mean = df['avg_rating_of_driver'].mean()\n",
    "rating = lambda row: mean if np.isnan(row) else row\n",
    "df['avg_rating_of_driver'] = df['avg_rating_of_driver'].apply(rating)"
   ]
  },
  {
   "cell_type": "code",
   "execution_count": 45,
   "id": "13a0208f",
   "metadata": {},
   "outputs": [
    {
     "name": "stdout",
     "output_type": "stream",
     "text": [
      "['iPhone' 'Android' 'Other']\n"
     ]
    }
   ],
   "source": [
    "#Replace phone null values with Other\n",
    "other = lambda row: \"Other\" if type(row) != str else row\n",
    "df[\"phone\"] = df[\"phone\"].apply(other)\n",
    "\n",
    "print(df[\"phone\"].unique())"
   ]
  },
  {
   "cell_type": "code",
   "execution_count": 46,
   "id": "2fe8016e",
   "metadata": {},
   "outputs": [
    {
     "data": {
      "text/plain": [
       "city                         0\n",
       "trips_in_first_30_days       0\n",
       "avg_rating_of_driver         0\n",
       "avg_surge                    0\n",
       "phone                        0\n",
       "surge_pct                    0\n",
       "ultimate_black_user          0\n",
       "weekday_pct                  0\n",
       "avg_dist                     0\n",
       "avg_rating_by_driver         0\n",
       "activity_status              0\n",
       "six_month_activity_status    0\n",
       "dtype: int64"
      ]
     },
     "execution_count": 46,
     "metadata": {},
     "output_type": "execute_result"
    }
   ],
   "source": [
    "df.isnull().sum()"
   ]
  },
  {
   "cell_type": "code",
   "execution_count": 47,
   "id": "956f6b02",
   "metadata": {},
   "outputs": [
    {
     "data": {
      "text/html": [
       "<div>\n",
       "<style scoped>\n",
       "    .dataframe tbody tr th:only-of-type {\n",
       "        vertical-align: middle;\n",
       "    }\n",
       "\n",
       "    .dataframe tbody tr th {\n",
       "        vertical-align: top;\n",
       "    }\n",
       "\n",
       "    .dataframe thead th {\n",
       "        text-align: right;\n",
       "    }\n",
       "</style>\n",
       "<table border=\"1\" class=\"dataframe\">\n",
       "  <thead>\n",
       "    <tr style=\"text-align: right;\">\n",
       "      <th></th>\n",
       "      <th>city</th>\n",
       "      <th>trips_in_first_30_days</th>\n",
       "      <th>avg_rating_of_driver</th>\n",
       "      <th>avg_surge</th>\n",
       "      <th>phone</th>\n",
       "      <th>surge_pct</th>\n",
       "      <th>ultimate_black_user</th>\n",
       "      <th>weekday_pct</th>\n",
       "      <th>avg_dist</th>\n",
       "      <th>avg_rating_by_driver</th>\n",
       "      <th>activity_status</th>\n",
       "      <th>six_month_activity_status</th>\n",
       "    </tr>\n",
       "  </thead>\n",
       "  <tbody>\n",
       "    <tr>\n",
       "      <th>0</th>\n",
       "      <td>King's Landing</td>\n",
       "      <td>4</td>\n",
       "      <td>4.7</td>\n",
       "      <td>1.10</td>\n",
       "      <td>iPhone</td>\n",
       "      <td>15.4</td>\n",
       "      <td>1</td>\n",
       "      <td>46.2</td>\n",
       "      <td>3.67</td>\n",
       "      <td>5.0</td>\n",
       "      <td>1</td>\n",
       "      <td>0</td>\n",
       "    </tr>\n",
       "    <tr>\n",
       "      <th>1</th>\n",
       "      <td>Astapor</td>\n",
       "      <td>0</td>\n",
       "      <td>5.0</td>\n",
       "      <td>1.00</td>\n",
       "      <td>Android</td>\n",
       "      <td>0.0</td>\n",
       "      <td>0</td>\n",
       "      <td>50.0</td>\n",
       "      <td>8.26</td>\n",
       "      <td>5.0</td>\n",
       "      <td>0</td>\n",
       "      <td>0</td>\n",
       "    </tr>\n",
       "    <tr>\n",
       "      <th>2</th>\n",
       "      <td>Astapor</td>\n",
       "      <td>3</td>\n",
       "      <td>4.3</td>\n",
       "      <td>1.00</td>\n",
       "      <td>iPhone</td>\n",
       "      <td>0.0</td>\n",
       "      <td>0</td>\n",
       "      <td>100.0</td>\n",
       "      <td>0.77</td>\n",
       "      <td>5.0</td>\n",
       "      <td>0</td>\n",
       "      <td>0</td>\n",
       "    </tr>\n",
       "    <tr>\n",
       "      <th>3</th>\n",
       "      <td>King's Landing</td>\n",
       "      <td>9</td>\n",
       "      <td>4.6</td>\n",
       "      <td>1.14</td>\n",
       "      <td>iPhone</td>\n",
       "      <td>20.0</td>\n",
       "      <td>1</td>\n",
       "      <td>80.0</td>\n",
       "      <td>2.36</td>\n",
       "      <td>4.9</td>\n",
       "      <td>1</td>\n",
       "      <td>1</td>\n",
       "    </tr>\n",
       "    <tr>\n",
       "      <th>4</th>\n",
       "      <td>Winterfell</td>\n",
       "      <td>14</td>\n",
       "      <td>4.4</td>\n",
       "      <td>1.19</td>\n",
       "      <td>Android</td>\n",
       "      <td>11.8</td>\n",
       "      <td>0</td>\n",
       "      <td>82.4</td>\n",
       "      <td>3.13</td>\n",
       "      <td>4.9</td>\n",
       "      <td>0</td>\n",
       "      <td>0</td>\n",
       "    </tr>\n",
       "  </tbody>\n",
       "</table>\n",
       "</div>"
      ],
      "text/plain": [
       "             city  trips_in_first_30_days  avg_rating_of_driver  avg_surge  \\\n",
       "0  King's Landing                       4                   4.7       1.10   \n",
       "1         Astapor                       0                   5.0       1.00   \n",
       "2         Astapor                       3                   4.3       1.00   \n",
       "3  King's Landing                       9                   4.6       1.14   \n",
       "4      Winterfell                      14                   4.4       1.19   \n",
       "\n",
       "     phone  surge_pct ultimate_black_user  weekday_pct  avg_dist  \\\n",
       "0   iPhone       15.4                   1         46.2      3.67   \n",
       "1  Android        0.0                   0         50.0      8.26   \n",
       "2   iPhone        0.0                   0        100.0      0.77   \n",
       "3   iPhone       20.0                   1         80.0      2.36   \n",
       "4  Android       11.8                   0         82.4      3.13   \n",
       "\n",
       "   avg_rating_by_driver activity_status six_month_activity_status  \n",
       "0                   5.0               1                         0  \n",
       "1                   5.0               0                         0  \n",
       "2                   5.0               0                         0  \n",
       "3                   4.9               1                         1  \n",
       "4                   4.9               0                         0  "
      ]
     },
     "execution_count": 47,
     "metadata": {},
     "output_type": "execute_result"
    }
   ],
   "source": [
    "#Mapping varibles for preprocessing\n",
    "df['ultimate_black_user'] = df['ultimate_black_user'].map({False:0, True:1}).astype('category')\n",
    "df['activity_status'] = df['activity_status'].map({'Inactive':0, 'Active':1}).astype('category')\n",
    "df['six_month_activity_status'] = df['six_month_activity_status'].map({'Inactive':0, 'Active':1}).astype('category')\n",
    "df.head()"
   ]
  },
  {
   "cell_type": "code",
   "execution_count": 48,
   "id": "924b1900",
   "metadata": {},
   "outputs": [
    {
     "data": {
      "text/plain": [
       "city                         0\n",
       "trips_in_first_30_days       0\n",
       "avg_rating_of_driver         0\n",
       "avg_surge                    0\n",
       "phone                        0\n",
       "surge_pct                    0\n",
       "ultimate_black_user          0\n",
       "weekday_pct                  0\n",
       "avg_dist                     0\n",
       "avg_rating_by_driver         0\n",
       "activity_status              0\n",
       "six_month_activity_status    0\n",
       "dtype: int64"
      ]
     },
     "execution_count": 48,
     "metadata": {},
     "output_type": "execute_result"
    }
   ],
   "source": [
    "df.isnull().sum()"
   ]
  },
  {
   "cell_type": "code",
   "execution_count": 49,
   "id": "cd836a71",
   "metadata": {},
   "outputs": [
    {
     "data": {
      "text/html": [
       "<div>\n",
       "<style scoped>\n",
       "    .dataframe tbody tr th:only-of-type {\n",
       "        vertical-align: middle;\n",
       "    }\n",
       "\n",
       "    .dataframe tbody tr th {\n",
       "        vertical-align: top;\n",
       "    }\n",
       "\n",
       "    .dataframe thead th {\n",
       "        text-align: right;\n",
       "    }\n",
       "</style>\n",
       "<table border=\"1\" class=\"dataframe\">\n",
       "  <thead>\n",
       "    <tr style=\"text-align: right;\">\n",
       "      <th></th>\n",
       "      <th>city</th>\n",
       "      <th>trips_in_first_30_days</th>\n",
       "      <th>avg_rating_of_driver</th>\n",
       "      <th>avg_surge</th>\n",
       "      <th>phone</th>\n",
       "      <th>surge_pct</th>\n",
       "      <th>ultimate_black_user</th>\n",
       "      <th>weekday_pct</th>\n",
       "      <th>avg_dist</th>\n",
       "      <th>avg_rating_by_driver</th>\n",
       "      <th>activity_status</th>\n",
       "    </tr>\n",
       "  </thead>\n",
       "  <tbody>\n",
       "    <tr>\n",
       "      <th>45139</th>\n",
       "      <td>Winterfell</td>\n",
       "      <td>14</td>\n",
       "      <td>5.0</td>\n",
       "      <td>1.04</td>\n",
       "      <td>iPhone</td>\n",
       "      <td>4.4</td>\n",
       "      <td>1</td>\n",
       "      <td>75.6</td>\n",
       "      <td>5.21</td>\n",
       "      <td>4.7</td>\n",
       "      <td>1</td>\n",
       "    </tr>\n",
       "    <tr>\n",
       "      <th>9901</th>\n",
       "      <td>Astapor</td>\n",
       "      <td>11</td>\n",
       "      <td>4.3</td>\n",
       "      <td>1.08</td>\n",
       "      <td>iPhone</td>\n",
       "      <td>10.0</td>\n",
       "      <td>0</td>\n",
       "      <td>60.0</td>\n",
       "      <td>2.25</td>\n",
       "      <td>4.7</td>\n",
       "      <td>0</td>\n",
       "    </tr>\n",
       "    <tr>\n",
       "      <th>26038</th>\n",
       "      <td>Astapor</td>\n",
       "      <td>5</td>\n",
       "      <td>4.8</td>\n",
       "      <td>1.57</td>\n",
       "      <td>iPhone</td>\n",
       "      <td>28.6</td>\n",
       "      <td>0</td>\n",
       "      <td>14.3</td>\n",
       "      <td>3.11</td>\n",
       "      <td>4.6</td>\n",
       "      <td>0</td>\n",
       "    </tr>\n",
       "    <tr>\n",
       "      <th>49163</th>\n",
       "      <td>Astapor</td>\n",
       "      <td>1</td>\n",
       "      <td>4.5</td>\n",
       "      <td>1.00</td>\n",
       "      <td>iPhone</td>\n",
       "      <td>0.0</td>\n",
       "      <td>0</td>\n",
       "      <td>50.0</td>\n",
       "      <td>1.32</td>\n",
       "      <td>5.0</td>\n",
       "      <td>0</td>\n",
       "    </tr>\n",
       "    <tr>\n",
       "      <th>38957</th>\n",
       "      <td>Winterfell</td>\n",
       "      <td>17</td>\n",
       "      <td>3.2</td>\n",
       "      <td>1.00</td>\n",
       "      <td>Android</td>\n",
       "      <td>0.0</td>\n",
       "      <td>1</td>\n",
       "      <td>40.0</td>\n",
       "      <td>4.36</td>\n",
       "      <td>4.7</td>\n",
       "      <td>0</td>\n",
       "    </tr>\n",
       "  </tbody>\n",
       "</table>\n",
       "</div>"
      ],
      "text/plain": [
       "             city  trips_in_first_30_days  avg_rating_of_driver  avg_surge  \\\n",
       "45139  Winterfell                      14                   5.0       1.04   \n",
       "9901      Astapor                      11                   4.3       1.08   \n",
       "26038     Astapor                       5                   4.8       1.57   \n",
       "49163     Astapor                       1                   4.5       1.00   \n",
       "38957  Winterfell                      17                   3.2       1.00   \n",
       "\n",
       "         phone  surge_pct ultimate_black_user  weekday_pct  avg_dist  \\\n",
       "45139   iPhone        4.4                   1         75.6      5.21   \n",
       "9901    iPhone       10.0                   0         60.0      2.25   \n",
       "26038   iPhone       28.6                   0         14.3      3.11   \n",
       "49163   iPhone        0.0                   0         50.0      1.32   \n",
       "38957  Android        0.0                   1         40.0      4.36   \n",
       "\n",
       "       avg_rating_by_driver activity_status  \n",
       "45139                   4.7               1  \n",
       "9901                    4.7               0  \n",
       "26038                   4.6               0  \n",
       "49163                   5.0               0  \n",
       "38957                   4.7               0  "
      ]
     },
     "metadata": {},
     "output_type": "display_data"
    },
    {
     "data": {
      "text/plain": [
       "45139    1\n",
       "9901     0\n",
       "26038    0\n",
       "49163    0\n",
       "38957    0\n",
       "Name: six_month_activity_status, dtype: category\n",
       "Categories (2, int64): [0, 1]"
      ]
     },
     "metadata": {},
     "output_type": "display_data"
    }
   ],
   "source": [
    "from sklearn.model_selection import train_test_split\n",
    "\n",
    "X = df[df.columns[:-1]]\n",
    "y = df[df.columns[-1]]\n",
    "\n",
    "X_train, X_test, y_train, y_test = train_test_split(X, y, test_size=0.7, random_state=42)\n",
    "\n",
    "display(X_train.head())\n",
    "display(y_train.head())"
   ]
  },
  {
   "cell_type": "code",
   "execution_count": 50,
   "id": "a080e614",
   "metadata": {},
   "outputs": [],
   "source": [
    "from imblearn.under_sampling import RandomUnderSampler\n",
    "# Initialize RandomOverSampler\n",
    "ros = RandomUnderSampler(random_state=0)\n",
    "\n",
    "# Resample the dataset\n",
    "X_resampled, y_resampled = ros.fit_resample(X_train, y_train)\n"
   ]
  },
  {
   "cell_type": "markdown",
   "id": "2a5f80fc",
   "metadata": {},
   "source": [
    "### Modeling"
   ]
  },
  {
   "cell_type": "markdown",
   "id": "901f5a9b",
   "metadata": {},
   "source": [
    "**Approach:** To meet the binary classification requirement for addressing the inquiries at hand, I am optting for building a model using powerful classification algorithms such as logistic regression, random forest, or gradient boosting. These models offer simplicity, robustness, enhanced flexibility, and interpretability over models such as RNNS or LSTMs which would may require more data and computational resources. Utilizing one of the aformentioned classification algorithms, in turn, would enable us to recommend strategies for improving long-term rider retention at Ultimate.\n",
    "\n",
    "While logistic regression may provide the highest level of interpretability among the three models mentioned, random forest offers superior flexibility and robustness compared to the other two. Additionally, it provides valuable insights, including feature importance, which is highly beneficial for implementation and analysis purposes.\n",
    "\n",
    "**Concerns:** General concerns regarding class imbalance arose during the Exploratory Data Analysis (EDA) phase, as it was revealed that the current dataset is skewed towards inactive riders. To address this concern, we have taken steps to account for it by undersampling the training data, rebalancing the dataset for implementation into the machine learning algorithms. Additionally, we will remain vigilant about concerns related to generalization and feature selection. These aspects will be assessed after the initial model implementation by utilizing key metrics such as accuracy and the F1 score."
   ]
  },
  {
   "cell_type": "code",
   "execution_count": 51,
   "id": "df37ec0a",
   "metadata": {},
   "outputs": [
    {
     "name": "stdout",
     "output_type": "stream",
     "text": [
      "GridSearchCV(cv=5,\n",
      "             estimator=Pipeline(steps=[('pre',\n",
      "                                        ColumnTransformer(transformers=[('num',\n",
      "                                                                         Pipeline(steps=[('scaler',\n",
      "                                                                                          StandardScaler())]),\n",
      "                                                                         ['trips_in_first_30_days',\n",
      "                                                                          'avg_rating_by_driver',\n",
      "                                                                          'avg_surge',\n",
      "                                                                          'surge_pct',\n",
      "                                                                          'weekday_pct',\n",
      "                                                                          'avg_dist',\n",
      "                                                                          'avg_rating_by_driver']),\n",
      "                                                                        ('cat',\n",
      "                                                                         Pipeline(steps=[('encoder',\n",
      "                                                                                          OneHotEncoder())]),\n",
      "                                                                         ['city',\n",
      "                                                                          'phone',\n",
      "                                                                          'ultimate_black_user',\n",
      "                                                                          'activity_status'])])),\n",
      "                                       ('rf',\n",
      "                                        RandomForestClassifier(random_state=42))]),\n",
      "             param_grid={'rf__max_depth': [5, 10, 15, 20],\n",
      "                         'rf__n_estimators': [10, 25, 50, 75, 100]})\n"
     ]
    }
   ],
   "source": [
    "from sklearn.pipeline import Pipeline\n",
    "from sklearn.preprocessing import OneHotEncoder\n",
    "from sklearn.preprocessing import StandardScaler\n",
    "from sklearn.compose import ColumnTransformer\n",
    "from sklearn.model_selection import GridSearchCV\n",
    "from sklearn.ensemble import RandomForestClassifier\n",
    "\n",
    "#Numerical features pipeline\n",
    "numeric_features = ['trips_in_first_30_days', 'avg_rating_by_driver', 'avg_surge', 'surge_pct', \\\n",
    "                    'weekday_pct', 'avg_dist', 'avg_rating_by_driver']\n",
    "numeric_transformer = [('scaler', StandardScaler())]\n",
    "numeric_transformer = Pipeline(numeric_transformer)\n",
    "\n",
    "#Categorical features pipeline\n",
    "categorical_features = ['city', 'phone', 'ultimate_black_user', 'activity_status']\n",
    "categorical_transformer = [('encoder', OneHotEncoder())]\n",
    "categorical_transformer = Pipeline(categorical_transformer)\n",
    "\n",
    "#Pipeline divernce\n",
    "preprocessor = ColumnTransformer(\n",
    "    transformers=[('num', numeric_transformer, numeric_features), \\\n",
    "                  ('cat', categorical_transformer, categorical_features)])\n",
    "\n",
    "#Adding random forest classifier\n",
    "pipeline = Pipeline(steps=[('pre', preprocessor), \\\n",
    "                           ('rf', RandomForestClassifier(random_state = 42))])\n",
    "\n",
    "#Grid search parameters\n",
    "params = {'rf__n_estimators' : [10, 25, 50, 75, 100],\n",
    "          'rf__max_depth' : [5, 10, 15, 20]}\n",
    "\n",
    "#Fitting the pipeline to the grid search\n",
    "cv = GridSearchCV(pipeline, param_grid=params, cv=5)\n",
    "cv.fit(X_resampled, y_resampled)\n",
    "\n",
    "print(cv)"
   ]
  },
  {
   "cell_type": "code",
   "execution_count": 52,
   "id": "8802ec71",
   "metadata": {},
   "outputs": [
    {
     "name": "stdout",
     "output_type": "stream",
     "text": [
      "Best parameters: {'rf__max_depth': 5, 'rf__n_estimators': 10}\n",
      "Training accuracy score from tuned model:        91.4%\n"
     ]
    }
   ],
   "source": [
    "print(f'Best parameters: {cv.best_params_}')\n",
    "print(f'Training accuracy score from tuned model: \\\n",
    "       {cv.best_score_*100:.1f}%')"
   ]
  },
  {
   "cell_type": "code",
   "execution_count": 53,
   "id": "1c36ea71",
   "metadata": {},
   "outputs": [
    {
     "name": "stdout",
     "output_type": "stream",
     "text": [
      "Model accuracy: 87.79%\n",
      "Model F1 Score: 0.81\n"
     ]
    }
   ],
   "source": [
    "from sklearn import metrics\n",
    "\n",
    "y_pred = cv.predict(X_test)\n",
    "\n",
    "test_accuracy = metrics.accuracy_score(y_test, y_pred)\n",
    "test_f1_score = metrics.f1_score(y_test, y_pred)\n",
    "\n",
    "print(f'Model accuracy: {test_accuracy*100:.2f}%')\n",
    "print(f'Model F1 Score: {test_f1_score:.2f}')"
   ]
  },
  {
   "cell_type": "code",
   "execution_count": 54,
   "id": "5dc2d917",
   "metadata": {},
   "outputs": [
    {
     "name": "stdout",
     "output_type": "stream",
     "text": [
      "[0.05208121 0.03039592 0.04152162 0.04570855 0.07967761 0.15634298\n",
      " 0.03656224 0.00731604 0.00915068 0.00709353 0.00742961 0.00112623\n",
      " 0.00653701 0.00686632 0.00751906 0.21343707 0.2912343 ]\n"
     ]
    }
   ],
   "source": [
    "pipeline.fit(X_train, y_train)\n",
    "\n",
    "weights = pipeline.named_steps['rf'].feature_importances_\n",
    "\n",
    "print(weights)"
   ]
  },
  {
   "cell_type": "code",
   "execution_count": 55,
   "id": "976bcaf6",
   "metadata": {},
   "outputs": [
    {
     "name": "stdout",
     "output_type": "stream",
     "text": [
      "Weight: 0.291 | Feature: activity_status_1\n",
      "Weight: 0.213 | Feature: activity_status_0\n",
      "Weight: 0.156 | Feature: avg_dist\n",
      "Weight: 0.080 | Feature: weekday_pct\n",
      "Weight: 0.052 | Feature: trips_in_first_30_days\n",
      "Weight: 0.046 | Feature: surge_pct\n",
      "Weight: 0.042 | Feature: avg_surge\n",
      "Weight: 0.037 | Feature: avg_rating_by_driver\n",
      "Weight: 0.030 | Feature: avg_rating_by_driver\n",
      "Weight: 0.009 | Feature: city_King's Landing\n",
      "Weight: 0.008 | Feature: ultimate_black_user_1\n",
      "Weight: 0.007 | Feature: phone_Android\n",
      "Weight: 0.007 | Feature: city_Astapor\n",
      "Weight: 0.007 | Feature: city_Winterfell\n",
      "Weight: 0.007 | Feature: ultimate_black_user_0\n",
      "Weight: 0.007 | Feature: phone_iPhone\n",
      "Weight: 0.001 | Feature: phone_Other\n"
     ]
    }
   ],
   "source": [
    "#Replicating pipeline numeric_transformer\n",
    "num_cols = df[numeric_features].columns\n",
    "num_cols = num_cols.tolist()\n",
    "\n",
    "#Replicating pipeline categorical_transformer\n",
    "cat_cols = pd.get_dummies(df[categorical_features]).columns\n",
    "cat_cols = cat_cols.tolist()\n",
    "\n",
    "#Adding column names\n",
    "cols = num_cols + cat_cols\n",
    "\n",
    "#Zipping column names to weights list\n",
    "feature_importance = zip(cols, weights)\n",
    "feature_importance = sorted(feature_importance, key=lambda x:x[1], reverse=True)\n",
    "\n",
    "for i, j in feature_importance:\n",
    "    print(f'Weight: {j:.3f} | Feature: {i}')"
   ]
  },
  {
   "cell_type": "markdown",
   "id": "d4eee0c7",
   "metadata": {},
   "source": [
    "Leveraging the feature importance insights from the model can provide valuable guidance to Ultimate for improving long-term rider retention. \n",
    "\n",
    "1. **Activity Status**: While the activity status features have the highest importance weights, this metric is not particularly useful for leveraging insights. This component merely specifies whether the rider has been active in the last 30 days, and while it is a requirement for six-month retention, it does not provide any valuable insights into the factors that may have influenced the user to remain active.\n",
    "\n",
    "2. **Avg_Dist and Weekday_Pct**: Features like `avg_dist` and `weekday_pct` also have notable importance. Ultimate can use this information to optimize pricing and incentive strategies for riders who tend to have longer average distances or higher weekday usage. Special promotions or loyalty programs on weekdays may help retain these riders.\n",
    "\n",
    "3. **Surge Pricing and Avg_Surge**: The impact of `surge_pct` and `avg_surge` suggests that managing surge pricing during peak hours is crucial for rider retention. Balancing pricing to maintain affordability during peak times while ensuring driver availability is essential to keep riders engaged.\n",
    "\n",
    "4. **Driver Ratings and City Choice**: Features related to driver ratings and city choices (`avg_rating_by_driver`, `city_King's Landing`, etc.) also play a role. Ultimate can work on improving the driver-rider experience and consider city-specific marketing strategies to retain riders in different locations.\n",
    "\n",
    "5. **Device and Ultimate Black Usage**: Features like `phone_Android`, `phone_iPhone`, and `ultimate_black_user_1` offer minimal insights into rider preferences. Ultimate can optimize its app for different devices and tailor promotions for Ultimate Black users to enhance their loyalty. However, any incentives to these feature may prove to be least affective in overall retainership.\n",
    "\n",
    "In summary, leveraging these insights allows Ultimate to adopt a data-driven approach for rider retention. By understanding the drivers behind rider behavior and preferences, Ultimate can implement targeted marketing campaigns, pricing adjustments, and service improvements to enhance long-term rider satisfaction and loyalty."
   ]
  },
  {
   "cell_type": "code",
   "execution_count": null,
   "id": "f655b6fc",
   "metadata": {},
   "outputs": [],
   "source": []
  }
 ],
 "metadata": {
  "kernelspec": {
   "display_name": "Python 3 (ipykernel)",
   "language": "python",
   "name": "python3"
  },
  "language_info": {
   "codemirror_mode": {
    "name": "ipython",
    "version": 3
   },
   "file_extension": ".py",
   "mimetype": "text/x-python",
   "name": "python",
   "nbconvert_exporter": "python",
   "pygments_lexer": "ipython3",
   "version": "3.9.13"
  }
 },
 "nbformat": 4,
 "nbformat_minor": 5
}
