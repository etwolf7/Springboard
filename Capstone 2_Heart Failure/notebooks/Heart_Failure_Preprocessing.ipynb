{
 "cells": [
  {
   "cell_type": "markdown",
   "id": "64c2c4d5",
   "metadata": {},
   "source": [
    "# Pre-Processing and Training Data<a id='Pre-Processing_and_Training_Data'></a>"
   ]
  },
  {
   "cell_type": "code",
   "execution_count": 425,
   "id": "e5a861c0",
   "metadata": {},
   "outputs": [],
   "source": [
    "import pandas as pd\n",
    "import numpy as np\n",
    "import os\n",
    "import pickle\n",
    "import matplotlib.pyplot as plt\n",
    "from sklearn import __version__ as sklearn_version\n",
    "from sklearn.preprocessing import scale\n",
    "from sklearn.model_selection import train_test_split, cross_validate, GridSearchCV, RandomizedSearchCV, learning_curve\n",
    "from sklearn.preprocessing import StandardScaler, MinMaxScaler\n",
    "from sklearn.dummy import DummyRegressor\n",
    "from sklearn.dummy import DummyClassifier\n",
    "from sklearn.linear_model import LinearRegression\n",
    "from sklearn.linear_model import LogisticRegression\n",
    "from sklearn.ensemble import RandomForestRegressor\n",
    "from sklearn.metrics import r2_score, mean_squared_error, mean_absolute_error\n",
    "from sklearn.pipeline import make_pipeline\n",
    "from sklearn.impute import SimpleImputer\n",
    "from sklearn.feature_selection import SelectKBest, f_regression\n",
    "import datetime\n",
    "\n",
    "from library.sb_utils import save_file"
   ]
  },
  {
   "cell_type": "code",
   "execution_count": 2,
   "id": "6ce93365",
   "metadata": {},
   "outputs": [
    {
     "data": {
      "text/html": [
       "<div>\n",
       "<style scoped>\n",
       "    .dataframe tbody tr th:only-of-type {\n",
       "        vertical-align: middle;\n",
       "    }\n",
       "\n",
       "    .dataframe tbody tr th {\n",
       "        vertical-align: top;\n",
       "    }\n",
       "\n",
       "    .dataframe thead th {\n",
       "        text-align: right;\n",
       "    }\n",
       "</style>\n",
       "<table border=\"1\" class=\"dataframe\">\n",
       "  <thead>\n",
       "    <tr style=\"text-align: right;\">\n",
       "      <th></th>\n",
       "      <th>Age</th>\n",
       "      <th>Sex</th>\n",
       "      <th>ChestPainType</th>\n",
       "      <th>RestingBP</th>\n",
       "      <th>Cholesterol</th>\n",
       "      <th>FastingBS</th>\n",
       "      <th>RestingECG</th>\n",
       "      <th>MaxHR</th>\n",
       "      <th>ExerciseAngina</th>\n",
       "      <th>Oldpeak</th>\n",
       "      <th>ST_Slope</th>\n",
       "      <th>HeartDisease</th>\n",
       "    </tr>\n",
       "  </thead>\n",
       "  <tbody>\n",
       "    <tr>\n",
       "      <th>0</th>\n",
       "      <td>40</td>\n",
       "      <td>M</td>\n",
       "      <td>ATA</td>\n",
       "      <td>140</td>\n",
       "      <td>289.0</td>\n",
       "      <td>0</td>\n",
       "      <td>Normal</td>\n",
       "      <td>172</td>\n",
       "      <td>N</td>\n",
       "      <td>0.0</td>\n",
       "      <td>Up</td>\n",
       "      <td>0</td>\n",
       "    </tr>\n",
       "    <tr>\n",
       "      <th>1</th>\n",
       "      <td>49</td>\n",
       "      <td>F</td>\n",
       "      <td>NAP</td>\n",
       "      <td>160</td>\n",
       "      <td>180.0</td>\n",
       "      <td>0</td>\n",
       "      <td>Normal</td>\n",
       "      <td>156</td>\n",
       "      <td>N</td>\n",
       "      <td>1.0</td>\n",
       "      <td>Flat</td>\n",
       "      <td>1</td>\n",
       "    </tr>\n",
       "    <tr>\n",
       "      <th>2</th>\n",
       "      <td>37</td>\n",
       "      <td>M</td>\n",
       "      <td>ATA</td>\n",
       "      <td>130</td>\n",
       "      <td>283.0</td>\n",
       "      <td>0</td>\n",
       "      <td>ST</td>\n",
       "      <td>98</td>\n",
       "      <td>N</td>\n",
       "      <td>0.0</td>\n",
       "      <td>Up</td>\n",
       "      <td>0</td>\n",
       "    </tr>\n",
       "    <tr>\n",
       "      <th>3</th>\n",
       "      <td>48</td>\n",
       "      <td>F</td>\n",
       "      <td>ASY</td>\n",
       "      <td>138</td>\n",
       "      <td>214.0</td>\n",
       "      <td>0</td>\n",
       "      <td>Normal</td>\n",
       "      <td>108</td>\n",
       "      <td>Y</td>\n",
       "      <td>1.5</td>\n",
       "      <td>Flat</td>\n",
       "      <td>1</td>\n",
       "    </tr>\n",
       "    <tr>\n",
       "      <th>4</th>\n",
       "      <td>54</td>\n",
       "      <td>M</td>\n",
       "      <td>NAP</td>\n",
       "      <td>150</td>\n",
       "      <td>195.0</td>\n",
       "      <td>0</td>\n",
       "      <td>Normal</td>\n",
       "      <td>122</td>\n",
       "      <td>N</td>\n",
       "      <td>0.0</td>\n",
       "      <td>Up</td>\n",
       "      <td>0</td>\n",
       "    </tr>\n",
       "  </tbody>\n",
       "</table>\n",
       "</div>"
      ],
      "text/plain": [
       "   Age Sex ChestPainType  RestingBP  Cholesterol  FastingBS RestingECG  MaxHR  \\\n",
       "0   40   M           ATA        140        289.0          0     Normal    172   \n",
       "1   49   F           NAP        160        180.0          0     Normal    156   \n",
       "2   37   M           ATA        130        283.0          0         ST     98   \n",
       "3   48   F           ASY        138        214.0          0     Normal    108   \n",
       "4   54   M           NAP        150        195.0          0     Normal    122   \n",
       "\n",
       "  ExerciseAngina  Oldpeak ST_Slope  HeartDisease  \n",
       "0              N      0.0       Up             0  \n",
       "1              N      1.0     Flat             1  \n",
       "2              N      0.0       Up             0  \n",
       "3              Y      1.5     Flat             1  \n",
       "4              N      0.0       Up             0  "
      ]
     },
     "execution_count": 2,
     "metadata": {},
     "output_type": "execute_result"
    }
   ],
   "source": [
    "patient_data = pd.read_csv('../data/patient_data_cleaned.csv')\n",
    "patient_data.head()"
   ]
  },
  {
   "cell_type": "code",
   "execution_count": 3,
   "id": "12f5e996",
   "metadata": {},
   "outputs": [],
   "source": [
    "#Extract Heart Disease column\n",
    "HD = patient_data['HeartDisease']"
   ]
  },
  {
   "cell_type": "code",
   "execution_count": 4,
   "id": "21885cf4",
   "metadata": {},
   "outputs": [
    {
     "data": {
      "text/html": [
       "<div>\n",
       "<style scoped>\n",
       "    .dataframe tbody tr th:only-of-type {\n",
       "        vertical-align: middle;\n",
       "    }\n",
       "\n",
       "    .dataframe tbody tr th {\n",
       "        vertical-align: top;\n",
       "    }\n",
       "\n",
       "    .dataframe thead th {\n",
       "        text-align: right;\n",
       "    }\n",
       "</style>\n",
       "<table border=\"1\" class=\"dataframe\">\n",
       "  <thead>\n",
       "    <tr style=\"text-align: right;\">\n",
       "      <th></th>\n",
       "      <th>Age</th>\n",
       "      <th>Sex</th>\n",
       "      <th>ChestPainType</th>\n",
       "      <th>RestingBP</th>\n",
       "      <th>Cholesterol</th>\n",
       "      <th>FastingBS</th>\n",
       "      <th>RestingECG</th>\n",
       "      <th>MaxHR</th>\n",
       "      <th>ExerciseAngina</th>\n",
       "      <th>Oldpeak</th>\n",
       "      <th>ST_Slope</th>\n",
       "    </tr>\n",
       "  </thead>\n",
       "  <tbody>\n",
       "    <tr>\n",
       "      <th>0</th>\n",
       "      <td>40</td>\n",
       "      <td>M</td>\n",
       "      <td>ATA</td>\n",
       "      <td>140</td>\n",
       "      <td>289.0</td>\n",
       "      <td>0</td>\n",
       "      <td>Normal</td>\n",
       "      <td>172</td>\n",
       "      <td>N</td>\n",
       "      <td>0.0</td>\n",
       "      <td>Up</td>\n",
       "    </tr>\n",
       "    <tr>\n",
       "      <th>1</th>\n",
       "      <td>49</td>\n",
       "      <td>F</td>\n",
       "      <td>NAP</td>\n",
       "      <td>160</td>\n",
       "      <td>180.0</td>\n",
       "      <td>0</td>\n",
       "      <td>Normal</td>\n",
       "      <td>156</td>\n",
       "      <td>N</td>\n",
       "      <td>1.0</td>\n",
       "      <td>Flat</td>\n",
       "    </tr>\n",
       "    <tr>\n",
       "      <th>2</th>\n",
       "      <td>37</td>\n",
       "      <td>M</td>\n",
       "      <td>ATA</td>\n",
       "      <td>130</td>\n",
       "      <td>283.0</td>\n",
       "      <td>0</td>\n",
       "      <td>ST</td>\n",
       "      <td>98</td>\n",
       "      <td>N</td>\n",
       "      <td>0.0</td>\n",
       "      <td>Up</td>\n",
       "    </tr>\n",
       "    <tr>\n",
       "      <th>3</th>\n",
       "      <td>48</td>\n",
       "      <td>F</td>\n",
       "      <td>ASY</td>\n",
       "      <td>138</td>\n",
       "      <td>214.0</td>\n",
       "      <td>0</td>\n",
       "      <td>Normal</td>\n",
       "      <td>108</td>\n",
       "      <td>Y</td>\n",
       "      <td>1.5</td>\n",
       "      <td>Flat</td>\n",
       "    </tr>\n",
       "    <tr>\n",
       "      <th>4</th>\n",
       "      <td>54</td>\n",
       "      <td>M</td>\n",
       "      <td>NAP</td>\n",
       "      <td>150</td>\n",
       "      <td>195.0</td>\n",
       "      <td>0</td>\n",
       "      <td>Normal</td>\n",
       "      <td>122</td>\n",
       "      <td>N</td>\n",
       "      <td>0.0</td>\n",
       "      <td>Up</td>\n",
       "    </tr>\n",
       "  </tbody>\n",
       "</table>\n",
       "</div>"
      ],
      "text/plain": [
       "   Age Sex ChestPainType  RestingBP  Cholesterol  FastingBS RestingECG  MaxHR  \\\n",
       "0   40   M           ATA        140        289.0          0     Normal    172   \n",
       "1   49   F           NAP        160        180.0          0     Normal    156   \n",
       "2   37   M           ATA        130        283.0          0         ST     98   \n",
       "3   48   F           ASY        138        214.0          0     Normal    108   \n",
       "4   54   M           NAP        150        195.0          0     Normal    122   \n",
       "\n",
       "  ExerciseAngina  Oldpeak ST_Slope  \n",
       "0              N      0.0       Up  \n",
       "1              N      1.0     Flat  \n",
       "2              N      0.0       Up  \n",
       "3              Y      1.5     Flat  \n",
       "4              N      0.0       Up  "
      ]
     },
     "execution_count": 4,
     "metadata": {},
     "output_type": "execute_result"
    }
   ],
   "source": [
    "patient_data = patient_data.loc[:, patient_data.columns != 'HeartDisease']\n",
    "patient_data.head()"
   ]
  },
  {
   "cell_type": "code",
   "execution_count": 5,
   "id": "262829e5",
   "metadata": {},
   "outputs": [],
   "source": [
    "#Test Train Split\n",
    "X_train, X_test, y_train, y_test = train_test_split(patient_data, HD, test_size=0.25, random_state=42)"
   ]
  },
  {
   "cell_type": "code",
   "execution_count": 6,
   "id": "b0f9822d",
   "metadata": {},
   "outputs": [
    {
     "data": {
      "text/plain": [
       "((687, 11), (230, 11))"
      ]
     },
     "execution_count": 6,
     "metadata": {},
     "output_type": "execute_result"
    }
   ],
   "source": [
    "X_train.shape, X_test.shape"
   ]
  },
  {
   "cell_type": "code",
   "execution_count": 7,
   "id": "fdeb2fd6",
   "metadata": {},
   "outputs": [
    {
     "data": {
      "text/plain": [
       "((687,), (230,))"
      ]
     },
     "execution_count": 7,
     "metadata": {},
     "output_type": "execute_result"
    }
   ],
   "source": [
    "y_train.shape, y_test.shape"
   ]
  },
  {
   "cell_type": "code",
   "execution_count": 9,
   "id": "2b430ba4",
   "metadata": {},
   "outputs": [
    {
     "data": {
      "text/plain": [
       "Age                 int64\n",
       "Sex                object\n",
       "ChestPainType      object\n",
       "RestingBP           int64\n",
       "Cholesterol       float64\n",
       "FastingBS           int64\n",
       "RestingECG         object\n",
       "MaxHR               int64\n",
       "ExerciseAngina     object\n",
       "Oldpeak           float64\n",
       "ST_Slope           object\n",
       "dtype: object"
      ]
     },
     "execution_count": 9,
     "metadata": {},
     "output_type": "execute_result"
    }
   ],
   "source": [
    "X_train.dtypes"
   ]
  },
  {
   "cell_type": "code",
   "execution_count": 10,
   "id": "1cd1ac3a",
   "metadata": {},
   "outputs": [
    {
     "data": {
      "text/plain": [
       "Age                 int64\n",
       "Sex                object\n",
       "ChestPainType      object\n",
       "RestingBP           int64\n",
       "Cholesterol       float64\n",
       "FastingBS           int64\n",
       "RestingECG         object\n",
       "MaxHR               int64\n",
       "ExerciseAngina     object\n",
       "Oldpeak           float64\n",
       "ST_Slope           object\n",
       "dtype: object"
      ]
     },
     "execution_count": 10,
     "metadata": {},
     "output_type": "execute_result"
    }
   ],
   "source": [
    "X_test.dtypes"
   ]
  },
  {
   "cell_type": "code",
   "execution_count": 339,
   "id": "d220a005",
   "metadata": {},
   "outputs": [
    {
     "data": {
      "text/plain": [
       "(687, 15)"
      ]
     },
     "execution_count": 339,
     "metadata": {},
     "output_type": "execute_result"
    }
   ],
   "source": [
    "#One-hot encoding object features\n",
    "X_train = pd.get_dummies(X_train, drop_first = True)\n",
    "X_train.shape"
   ]
  },
  {
   "cell_type": "code",
   "execution_count": 12,
   "id": "86f14527",
   "metadata": {},
   "outputs": [
    {
     "data": {
      "text/plain": [
       "(230, 15)"
      ]
     },
     "execution_count": 12,
     "metadata": {},
     "output_type": "execute_result"
    }
   ],
   "source": [
    "X_test = pd.get_dummies(X_test, drop_first = True)\n",
    "X_test.shape"
   ]
  },
  {
   "cell_type": "code",
   "execution_count": 13,
   "id": "b6a4103c",
   "metadata": {},
   "outputs": [
    {
     "data": {
      "text/plain": [
       "Age                    int64\n",
       "RestingBP              int64\n",
       "Cholesterol          float64\n",
       "FastingBS              int64\n",
       "MaxHR                  int64\n",
       "Oldpeak              float64\n",
       "Sex_M                  uint8\n",
       "ChestPainType_ATA      uint8\n",
       "ChestPainType_NAP      uint8\n",
       "ChestPainType_TA       uint8\n",
       "RestingECG_Normal      uint8\n",
       "RestingECG_ST          uint8\n",
       "ExerciseAngina_Y       uint8\n",
       "ST_Slope_Flat          uint8\n",
       "ST_Slope_Up            uint8\n",
       "dtype: object"
      ]
     },
     "execution_count": 13,
     "metadata": {},
     "output_type": "execute_result"
    }
   ],
   "source": [
    "X_train.dtypes"
   ]
  },
  {
   "cell_type": "code",
   "execution_count": 14,
   "id": "c6bf1377",
   "metadata": {},
   "outputs": [
    {
     "data": {
      "text/plain": [
       "Age                    int64\n",
       "RestingBP              int64\n",
       "Cholesterol          float64\n",
       "FastingBS              int64\n",
       "MaxHR                  int64\n",
       "Oldpeak              float64\n",
       "Sex_M                  uint8\n",
       "ChestPainType_ATA      uint8\n",
       "ChestPainType_NAP      uint8\n",
       "ChestPainType_TA       uint8\n",
       "RestingECG_Normal      uint8\n",
       "RestingECG_ST          uint8\n",
       "ExerciseAngina_Y       uint8\n",
       "ST_Slope_Flat          uint8\n",
       "ST_Slope_Up            uint8\n",
       "dtype: object"
      ]
     },
     "execution_count": 14,
     "metadata": {},
     "output_type": "execute_result"
    }
   ],
   "source": [
    "X_test.dtypes"
   ]
  },
  {
   "cell_type": "markdown",
   "id": "07399a8c",
   "metadata": {},
   "source": [
    "## Initial Baseline-Model<a id='Initial_Baseline-Model'></a>"
   ]
  },
  {
   "cell_type": "code",
   "execution_count": 430,
   "id": "3022f662",
   "metadata": {},
   "outputs": [
    {
     "data": {
      "text/plain": [
       "DummyClassifier(strategy='uniform')"
      ]
     },
     "execution_count": 430,
     "metadata": {},
     "output_type": "execute_result"
    }
   ],
   "source": [
    "#Creation of Baseline-Model based on uniform random predictions (coin flips)\n",
    "dumb_clf = DummyClassifier(strategy='uniform')\n",
    "dumb_clf.fit(X_train, y_train)"
   ]
  },
  {
   "cell_type": "code",
   "execution_count": 427,
   "id": "455f339b",
   "metadata": {},
   "outputs": [
    {
     "data": {
      "text/plain": [
       "array([0, 1, 0, 1, 1])"
      ]
     },
     "execution_count": 427,
     "metadata": {},
     "output_type": "execute_result"
    }
   ],
   "source": [
    "y_tr_pred = dumb_clf.predict(X_train)\n",
    "y_tr_pred[:5]"
   ]
  },
  {
   "cell_type": "code",
   "execution_count": 428,
   "id": "6ae36660",
   "metadata": {},
   "outputs": [
    {
     "data": {
      "text/plain": [
       "array([0, 1, 0, 1, 1])"
      ]
     },
     "execution_count": 428,
     "metadata": {},
     "output_type": "execute_result"
    }
   ],
   "source": [
    "y_te_pred = dumb_clf.predict(X_test)\n",
    "y_te_pred[:5]"
   ]
  },
  {
   "cell_type": "code",
   "execution_count": 429,
   "id": "08558060",
   "metadata": {},
   "outputs": [
    {
     "data": {
      "text/plain": [
       "(0.5225618631732168, 0.41739130434782606)"
      ]
     },
     "execution_count": 429,
     "metadata": {},
     "output_type": "execute_result"
    }
   ],
   "source": [
    "mean_absolute_error(y_train, y_tr_pred), mean_absolute_error(y_test, y_te_pred)"
   ]
  },
  {
   "cell_type": "markdown",
   "id": "1382b56f",
   "metadata": {},
   "source": [
    "## Linear Regression Model<a id='Linear_Regression_Model'></a>"
   ]
  },
  {
   "cell_type": "code",
   "execution_count": 442,
   "id": "eb37c098",
   "metadata": {},
   "outputs": [],
   "source": [
    "pipe = make_pipeline(\n",
    "    SimpleImputer(strategy='median'), \n",
    "    StandardScaler(), \n",
    "    SelectKBest(score_func = f_regression),\n",
    "    LinearRegression()\n",
    ")"
   ]
  },
  {
   "cell_type": "code",
   "execution_count": 443,
   "id": "666b230d",
   "metadata": {},
   "outputs": [
    {
     "data": {
      "text/plain": [
       "Pipeline(steps=[('simpleimputer', SimpleImputer(strategy='median')),\n",
       "                ('standardscaler', StandardScaler()),\n",
       "                ('selectkbest',\n",
       "                 SelectKBest(score_func=<function f_regression at 0x7f92ba164940>)),\n",
       "                ('linearregression', LinearRegression())])"
      ]
     },
     "execution_count": 443,
     "metadata": {},
     "output_type": "execute_result"
    }
   ],
   "source": [
    "pipe.fit(X_train, y_train)"
   ]
  },
  {
   "cell_type": "code",
   "execution_count": 444,
   "id": "596f3da4",
   "metadata": {},
   "outputs": [],
   "source": [
    "y_tr_pred = pipe.predict(X_train)\n",
    "y_te_pred = pipe.predict(X_test)"
   ]
  },
  {
   "cell_type": "code",
   "execution_count": 445,
   "id": "0c732614",
   "metadata": {},
   "outputs": [
    {
     "data": {
      "text/plain": [
       "(0.24100504181980173, 0.24626092767538157)"
      ]
     },
     "execution_count": 445,
     "metadata": {},
     "output_type": "execute_result"
    }
   ],
   "source": [
    "mean_absolute_error(y_train, y_tr_pred), mean_absolute_error(y_test, y_te_pred)"
   ]
  },
  {
   "cell_type": "markdown",
   "id": "53be4210",
   "metadata": {},
   "source": [
    "## Random Search and Cross-validation<a id='Random_Search_and_Cross-validation'></a>"
   ]
  },
  {
   "cell_type": "code",
   "execution_count": 446,
   "id": "35495cc9",
   "metadata": {},
   "outputs": [
    {
     "data": {
      "text/plain": [
       "dict_keys(['memory', 'steps', 'verbose', 'simpleimputer', 'standardscaler', 'selectkbest', 'linearregression', 'simpleimputer__add_indicator', 'simpleimputer__copy', 'simpleimputer__fill_value', 'simpleimputer__missing_values', 'simpleimputer__strategy', 'simpleimputer__verbose', 'standardscaler__copy', 'standardscaler__with_mean', 'standardscaler__with_std', 'selectkbest__k', 'selectkbest__score_func', 'linearregression__copy_X', 'linearregression__fit_intercept', 'linearregression__n_jobs', 'linearregression__normalize', 'linearregression__positive'])"
      ]
     },
     "execution_count": 446,
     "metadata": {},
     "output_type": "execute_result"
    }
   ],
   "source": [
    "pipe.get_params().keys()"
   ]
  },
  {
   "cell_type": "code",
   "execution_count": 447,
   "id": "d39a8d4b",
   "metadata": {},
   "outputs": [],
   "source": [
    "k = [k+1 for k in range(len(X_train.columns))]\n",
    "params = {'selectkbest__k': k}"
   ]
  },
  {
   "cell_type": "code",
   "execution_count": 448,
   "id": "cfc4a5c0",
   "metadata": {},
   "outputs": [],
   "source": [
    "lr_random_cv = RandomizedSearchCV(pipe, params, n_iter=5, cv=5, n_jobs=-1)"
   ]
  },
  {
   "cell_type": "code",
   "execution_count": 449,
   "id": "4e2234d3",
   "metadata": {},
   "outputs": [
    {
     "data": {
      "text/plain": [
       "RandomizedSearchCV(cv=5,\n",
       "                   estimator=Pipeline(steps=[('simpleimputer',\n",
       "                                              SimpleImputer(strategy='median')),\n",
       "                                             ('standardscaler',\n",
       "                                              StandardScaler()),\n",
       "                                             ('selectkbest',\n",
       "                                              SelectKBest(score_func=<function f_regression at 0x7f92ba164940>)),\n",
       "                                             ('linearregression',\n",
       "                                              LinearRegression())]),\n",
       "                   n_iter=5, n_jobs=-1,\n",
       "                   param_distributions={'selectkbest__k': [1, 2, 3, 4, 5, 6, 7,\n",
       "                                                           8, 9, 10, 11, 12, 13,\n",
       "                                                           14, 15]})"
      ]
     },
     "execution_count": 449,
     "metadata": {},
     "output_type": "execute_result"
    }
   ],
   "source": [
    "lr_random_cv.fit(X_train, y_train)"
   ]
  },
  {
   "cell_type": "code",
   "execution_count": 452,
   "id": "93f68607",
   "metadata": {},
   "outputs": [
    {
     "data": {
      "text/plain": [
       "array([0.61123518, 0.57473857, 0.58253608, 0.49657634, 0.46402858])"
      ]
     },
     "execution_count": 452,
     "metadata": {},
     "output_type": "execute_result"
    }
   ],
   "source": [
    "lr_best_cv_results = cross_validate(lr_random_cv.best_estimator_, X_train, y_train, cv=5)\n",
    "lr_best_scores = lr_best_cv_results['test_score']\n",
    "lr_best_scores"
   ]
  },
  {
   "cell_type": "code",
   "execution_count": 453,
   "id": "aaf925f3",
   "metadata": {},
   "outputs": [
    {
     "data": {
      "text/plain": [
       "(0.851443986036179, 0.033751033846965504)"
      ]
     },
     "execution_count": 453,
     "metadata": {},
     "output_type": "execute_result"
    }
   ],
   "source": [
    "np.mean(lg_best_scores), np.std(lg_best_scores)"
   ]
  },
  {
   "cell_type": "code",
   "execution_count": 342,
   "id": "76f0fcda",
   "metadata": {},
   "outputs": [
    {
     "data": {
      "text/plain": [
       "{'selectkbest__k': 15}"
      ]
     },
     "execution_count": 342,
     "metadata": {},
     "output_type": "execute_result"
    }
   ],
   "source": [
    "lr_random_cv.best_params_"
   ]
  },
  {
   "cell_type": "code",
   "execution_count": 29,
   "id": "32fe3816",
   "metadata": {},
   "outputs": [],
   "source": [
    "selected = lr_random_cv.best_estimator_.named_steps.selectkbest.get_support()"
   ]
  },
  {
   "cell_type": "code",
   "execution_count": 340,
   "id": "39d792bb",
   "metadata": {},
   "outputs": [
    {
     "data": {
      "text/plain": [
       "ExerciseAngina_Y     0.069090\n",
       "Sex_M                0.063476\n",
       "ST_Slope_Flat        0.058114\n",
       "FastingBS            0.056953\n",
       "Oldpeak              0.053994\n",
       "Age                  0.012749\n",
       "RestingECG_ST        0.004107\n",
       "RestingECG_Normal    0.000149\n",
       "RestingBP           -0.002242\n",
       "Cholesterol         -0.019185\n",
       "MaxHR               -0.023106\n",
       "ChestPainType_TA    -0.044212\n",
       "ChestPainType_NAP   -0.093135\n",
       "ChestPainType_ATA   -0.093275\n",
       "ST_Slope_Up         -0.135425\n",
       "dtype: float64"
      ]
     },
     "execution_count": 340,
     "metadata": {},
     "output_type": "execute_result"
    }
   ],
   "source": [
    "#Feature importance for linear regression\n",
    "coefs = lr_random_cv.best_estimator_.named_steps.linearregression.coef_\n",
    "features = X_train.columns[selected]\n",
    "pd.Series(data = coefs, index=features).sort_values(ascending=False)"
   ]
  },
  {
   "cell_type": "markdown",
   "id": "cb8d6edb",
   "metadata": {},
   "source": [
    "## Random Forest Model<a id='Random_Forest_Model'></a>"
   ]
  },
  {
   "cell_type": "code",
   "execution_count": 31,
   "id": "d1205de6",
   "metadata": {},
   "outputs": [],
   "source": [
    "RF_pipe = make_pipeline(\n",
    "    SimpleImputer(strategy='median'),\n",
    "    StandardScaler(),\n",
    "    RandomForestRegressor(random_state=42)\n",
    ")"
   ]
  },
  {
   "cell_type": "code",
   "execution_count": 32,
   "id": "34fc001f",
   "metadata": {},
   "outputs": [],
   "source": [
    "rf_default_cv_results = cross_validate(RF_pipe, X_train, y_train, cv=5)"
   ]
  },
  {
   "cell_type": "code",
   "execution_count": 33,
   "id": "3dd31fba",
   "metadata": {},
   "outputs": [
    {
     "data": {
      "text/plain": [
       "array([0.58435383, 0.51716553, 0.47168675, 0.46641336, 0.43908959])"
      ]
     },
     "execution_count": 33,
     "metadata": {},
     "output_type": "execute_result"
    }
   ],
   "source": [
    "rf_cv_scores = rf_default_cv_results['test_score']\n",
    "rf_cv_scores"
   ]
  },
  {
   "cell_type": "code",
   "execution_count": 34,
   "id": "e75c99b5",
   "metadata": {},
   "outputs": [
    {
     "data": {
      "text/plain": [
       "(0.49574181259617384, 0.050910398769674015)"
      ]
     },
     "execution_count": 34,
     "metadata": {},
     "output_type": "execute_result"
    }
   ],
   "source": [
    "np.mean(rf_cv_scores), np.std(rf_cv_scores)"
   ]
  },
  {
   "cell_type": "code",
   "execution_count": 284,
   "id": "6b7ade80",
   "metadata": {},
   "outputs": [
    {
     "data": {
      "text/plain": [
       "{'randomforestregressor__n_estimators': [10,\n",
       "  12,\n",
       "  16,\n",
       "  20,\n",
       "  26,\n",
       "  33,\n",
       "  42,\n",
       "  54,\n",
       "  69,\n",
       "  88,\n",
       "  112,\n",
       "  143,\n",
       "  183,\n",
       "  233,\n",
       "  297,\n",
       "  379,\n",
       "  483,\n",
       "  615,\n",
       "  784,\n",
       "  1000],\n",
       " 'standardscaler': [StandardScaler(), MinMaxScaler(), None],\n",
       " 'simpleimputer__strategy': ['mean', 'median']}"
      ]
     },
     "execution_count": 284,
     "metadata": {},
     "output_type": "execute_result"
    }
   ],
   "source": [
    "n_est = [int(n) for n in np.logspace(start=1, stop=3, num=20)]\n",
    "params = {\n",
    "        'randomforestregressor__n_estimators': n_est,\n",
    "        'standardscaler': [StandardScaler(), MinMaxScaler(), None],\n",
    "        'simpleimputer__strategy': ['mean', 'median']\n",
    "}\n",
    "params"
   ]
  },
  {
   "cell_type": "code",
   "execution_count": 285,
   "id": "d6d7dee9",
   "metadata": {},
   "outputs": [],
   "source": [
    "rf_random_cv = RandomizedSearchCV(RF_pipe, params, cv=5, n_jobs=-1)"
   ]
  },
  {
   "cell_type": "code",
   "execution_count": 286,
   "id": "1ea0cbe3",
   "metadata": {},
   "outputs": [
    {
     "data": {
      "text/plain": [
       "RandomizedSearchCV(cv=5,\n",
       "                   estimator=Pipeline(steps=[('simpleimputer',\n",
       "                                              SimpleImputer(strategy='median')),\n",
       "                                             ('standardscaler',\n",
       "                                              StandardScaler()),\n",
       "                                             ('randomforestregressor',\n",
       "                                              RandomForestRegressor(random_state=42))]),\n",
       "                   n_jobs=-1,\n",
       "                   param_distributions={'randomforestregressor__n_estimators': [10,\n",
       "                                                                                12,\n",
       "                                                                                16,\n",
       "                                                                                20,\n",
       "                                                                                26,\n",
       "                                                                                33,\n",
       "                                                                                42,\n",
       "                                                                                54,\n",
       "                                                                                69,\n",
       "                                                                                88,\n",
       "                                                                                112,\n",
       "                                                                                143,\n",
       "                                                                                183,\n",
       "                                                                                233,\n",
       "                                                                                297,\n",
       "                                                                                379,\n",
       "                                                                                483,\n",
       "                                                                                615,\n",
       "                                                                                784,\n",
       "                                                                                1000],\n",
       "                                        'simpleimputer__strategy': ['mean',\n",
       "                                                                    'median'],\n",
       "                                        'standardscaler': [StandardScaler(),\n",
       "                                                           MinMaxScaler(),\n",
       "                                                           None]})"
      ]
     },
     "execution_count": 286,
     "metadata": {},
     "output_type": "execute_result"
    }
   ],
   "source": [
    "rf_random_cv.fit(X_train, y_train)"
   ]
  },
  {
   "cell_type": "code",
   "execution_count": 287,
   "id": "123b00c1",
   "metadata": {},
   "outputs": [
    {
     "data": {
      "text/plain": [
       "{'standardscaler': MinMaxScaler(),\n",
       " 'simpleimputer__strategy': 'mean',\n",
       " 'randomforestregressor__n_estimators': 784}"
      ]
     },
     "execution_count": 287,
     "metadata": {},
     "output_type": "execute_result"
    }
   ],
   "source": [
    "rf_random_cv.best_params_"
   ]
  },
  {
   "cell_type": "code",
   "execution_count": 288,
   "id": "e914e14d",
   "metadata": {},
   "outputs": [
    {
     "data": {
      "text/plain": [
       "array([0.59558028, 0.51827219, 0.4718485 , 0.47646018, 0.43700387])"
      ]
     },
     "execution_count": 288,
     "metadata": {},
     "output_type": "execute_result"
    }
   ],
   "source": [
    "rf_best_cv_results = cross_validate(rf_random_cv.best_estimator_, X_train, y_train, cv=5)\n",
    "rf_best_scores = rf_best_cv_results['test_score']\n",
    "rf_best_scores"
   ]
  },
  {
   "cell_type": "code",
   "execution_count": 289,
   "id": "7eae2699",
   "metadata": {},
   "outputs": [
    {
     "data": {
      "text/plain": [
       "(0.4998330051357248, 0.05437732232822921)"
      ]
     },
     "execution_count": 289,
     "metadata": {},
     "output_type": "execute_result"
    }
   ],
   "source": [
    "np.mean(rf_best_scores), np.std(rf_best_scores)"
   ]
  },
  {
   "cell_type": "code",
   "execution_count": 290,
   "id": "38c63812",
   "metadata": {},
   "outputs": [
    {
     "data": {
      "image/png": "[encoded data removed]",
      "text/plain": [
       "<Figure size 1000x500 with 1 Axes>"
      ]
     },
     "metadata": {},
     "output_type": "display_data"
    }
   ],
   "source": [
    "plt.subplots(figsize=(10, 5))\n",
    "imps = rf_random_cv.best_estimator_.named_steps.randomforestregressor.feature_importances_\n",
    "rf_feat_imps = pd.Series(data = imps, index=X_train.columns).sort_values(ascending=False)\n",
    "rf_feat_imps.plot(kind='bar')\n",
    "plt.xlabel('Features')\n",
    "plt.ylabel('Importance')\n",
    "plt.title('Best random forest regressor feature importances');"
   ]
  },
  {
   "cell_type": "markdown",
   "id": "4954b867",
   "metadata": {},
   "source": [
    "## Logistic Regression Model<a id='Logistic_Regression_Model'></a>"
   ]
  },
  {
   "cell_type": "code",
   "execution_count": 395,
   "id": "47c85619",
   "metadata": {},
   "outputs": [],
   "source": [
    "lg_pipe = make_pipeline(\n",
    "    SimpleImputer(strategy='median'),\n",
    "    StandardScaler(),\n",
    "    LogisticRegression(random_state=42)\n",
    ")"
   ]
  },
  {
   "cell_type": "code",
   "execution_count": 396,
   "id": "da34a208",
   "metadata": {},
   "outputs": [],
   "source": [
    "lg_default_cv_results = cross_validate(LG_pipe, X_train, y_train, cv=5)"
   ]
  },
  {
   "cell_type": "code",
   "execution_count": 397,
   "id": "4c9f65cb",
   "metadata": {},
   "outputs": [
    {
     "data": {
      "text/plain": [
       "array([0.89130435, 0.85507246, 0.86131387, 0.82481752, 0.81021898])"
      ]
     },
     "execution_count": 397,
     "metadata": {},
     "output_type": "execute_result"
    }
   ],
   "source": [
    "lg_cv_scores = LG_default_cv_results['test_score']\n",
    "lg_cv_scores"
   ]
  },
  {
   "cell_type": "code",
   "execution_count": 398,
   "id": "12a19a7d",
   "metadata": {},
   "outputs": [
    {
     "data": {
      "text/plain": [
       "(0.8485454353115411, 0.028516279418125623)"
      ]
     },
     "execution_count": 398,
     "metadata": {},
     "output_type": "execute_result"
    }
   ],
   "source": [
    "np.mean(lg_cv_scores), np.std(lg_cv_scores)"
   ]
  },
  {
   "cell_type": "code",
   "execution_count": 399,
   "id": "81976d1a",
   "metadata": {},
   "outputs": [
    {
     "data": {
      "text/plain": [
       "dict_keys(['memory', 'steps', 'verbose', 'simpleimputer', 'standardscaler', 'logisticregression', 'simpleimputer__add_indicator', 'simpleimputer__copy', 'simpleimputer__fill_value', 'simpleimputer__missing_values', 'simpleimputer__strategy', 'simpleimputer__verbose', 'standardscaler__copy', 'standardscaler__with_mean', 'standardscaler__with_std', 'logisticregression__C', 'logisticregression__class_weight', 'logisticregression__dual', 'logisticregression__fit_intercept', 'logisticregression__intercept_scaling', 'logisticregression__l1_ratio', 'logisticregression__max_iter', 'logisticregression__multi_class', 'logisticregression__n_jobs', 'logisticregression__penalty', 'logisticregression__random_state', 'logisticregression__solver', 'logisticregression__tol', 'logisticregression__verbose', 'logisticregression__warm_start'])"
      ]
     },
     "execution_count": 399,
     "metadata": {},
     "output_type": "execute_result"
    }
   ],
   "source": [
    "lg_pipe.get_params().keys()"
   ]
  },
  {
   "cell_type": "code",
   "execution_count": 400,
   "id": "e5adcbae",
   "metadata": {},
   "outputs": [],
   "source": [
    "param_grid = [\n",
    "    {\n",
    "    'penalty' : ['l1', 'l2'],\n",
    "    'C' : np.logspace(-4, 4, 20),\n",
    "    'solver' : ['liblinear']}]\n",
    "\n",
    "lg_random_cv = RandomizedSearchCV(LogisticRegression(random_state=42), param_grid, cv = 5, n_jobs=-1)\n"
   ]
  },
  {
   "cell_type": "code",
   "execution_count": 401,
   "id": "1e18fad9",
   "metadata": {},
   "outputs": [
    {
     "data": {
      "text/plain": [
       "RandomizedSearchCV(cv=5, estimator=LogisticRegression(random_state=42),\n",
       "                   n_jobs=-1,\n",
       "                   param_distributions=[{'C': array([1.00000000e-04, 2.63665090e-04, 6.95192796e-04, 1.83298071e-03,\n",
       "       4.83293024e-03, 1.27427499e-02, 3.35981829e-02, 8.85866790e-02,\n",
       "       2.33572147e-01, 6.15848211e-01, 1.62377674e+00, 4.28133240e+00,\n",
       "       1.12883789e+01, 2.97635144e+01, 7.84759970e+01, 2.06913808e+02,\n",
       "       5.45559478e+02, 1.43844989e+03, 3.79269019e+03, 1.00000000e+04]),\n",
       "                                         'penalty': ['l1', 'l2'],\n",
       "                                         'solver': ['liblinear']}])"
      ]
     },
     "execution_count": 401,
     "metadata": {},
     "output_type": "execute_result"
    }
   ],
   "source": [
    "lg_random_cv.fit(X_train,y_train)\n"
   ]
  },
  {
   "cell_type": "code",
   "execution_count": 402,
   "id": "8a71e162",
   "metadata": {},
   "outputs": [
    {
     "data": {
      "text/plain": [
       "{'solver': 'liblinear', 'penalty': 'l1', 'C': 0.615848211066026}"
      ]
     },
     "execution_count": 402,
     "metadata": {},
     "output_type": "execute_result"
    }
   ],
   "source": [
    "lg_random_cv.best_params_"
   ]
  },
  {
   "cell_type": "code",
   "execution_count": 440,
   "id": "96448b8a",
   "metadata": {},
   "outputs": [
    {
     "data": {
      "text/plain": [
       "array([0.89855072, 0.86231884, 0.86861314, 0.82481752, 0.80291971])"
      ]
     },
     "execution_count": 440,
     "metadata": {},
     "output_type": "execute_result"
    }
   ],
   "source": [
    "lg_best_cv_results = cross_validate(lg_random_cv.best_estimator_, X_train, y_train, cv=5)\n",
    "lg_best_scores = lg_best_cv_results['test_score']\n",
    "lg_best_scores"
   ]
  },
  {
   "cell_type": "code",
   "execution_count": 404,
   "id": "75fab950",
   "metadata": {},
   "outputs": [
    {
     "data": {
      "text/plain": [
       "(0.8514545646884587, 0.032419549790561136)"
      ]
     },
     "execution_count": 404,
     "metadata": {},
     "output_type": "execute_result"
    }
   ],
   "source": [
    "np.mean(lg_best_scores), np.std(lg_best_scores)"
   ]
  },
  {
   "cell_type": "code",
   "execution_count": 454,
   "id": "73db47d5",
   "metadata": {},
   "outputs": [],
   "source": [
    "best_model = lg_random_cv.best_estimator_"
   ]
  },
  {
   "cell_type": "code",
   "execution_count": 455,
   "id": "6d25c722",
   "metadata": {},
   "outputs": [
    {
     "data": {
      "text/plain": [
       "ExerciseAngina_Y     0.069090\n",
       "Sex_M                0.063476\n",
       "ST_Slope_Flat        0.058114\n",
       "FastingBS            0.056953\n",
       "Oldpeak              0.053994\n",
       "Age                  0.012749\n",
       "RestingECG_ST        0.004107\n",
       "RestingECG_Normal    0.000149\n",
       "RestingBP           -0.002242\n",
       "Cholesterol         -0.019185\n",
       "MaxHR               -0.023106\n",
       "ChestPainType_TA    -0.044212\n",
       "ChestPainType_NAP   -0.093135\n",
       "ChestPainType_ATA   -0.093275\n",
       "ST_Slope_Up         -0.135425\n",
       "dtype: float64"
      ]
     },
     "execution_count": 455,
     "metadata": {},
     "output_type": "execute_result"
    }
   ],
   "source": [
    "#Feature importance for logistic regression\n",
    "coef = best_model.coef_[0]\n",
    "features = X_train.columns\n",
    "pd.Series(data = coefs, index=features).sort_values(ascending=False)"
   ]
  },
  {
   "cell_type": "markdown",
   "id": "6304621c",
   "metadata": {},
   "source": [
    "## Final Model Selection<a id='Final_Model_Selection'></a>"
   ]
  },
  {
   "cell_type": "markdown",
   "id": "0b85711b",
   "metadata": {},
   "source": [
    "### Linear regression model performance<a id='_Linear_regression_model_performance'></a>"
   ]
  },
  {
   "cell_type": "code",
   "execution_count": 456,
   "id": "4927ce42",
   "metadata": {},
   "outputs": [],
   "source": [
    "lr_neg_mae = cross_validate(lr_random_cv.best_estimator_, X_train, y_train, \n",
    "                            scoring='neg_mean_absolute_error', cv=5, n_jobs=-1)"
   ]
  },
  {
   "cell_type": "code",
   "execution_count": 457,
   "id": "3fdaf883",
   "metadata": {},
   "outputs": [
    {
     "data": {
      "text/plain": [
       "(0.24424951279380158, 0.015351919488809944)"
      ]
     },
     "execution_count": 457,
     "metadata": {},
     "output_type": "execute_result"
    }
   ],
   "source": [
    "lr_mae_mean = np.mean(-1 * lr_neg_mae['test_score'])\n",
    "lr_mae_std = np.std(-1 * lr_neg_mae['test_score'])\n",
    "lr_mae_mean, lr_mae_std"
   ]
  },
  {
   "cell_type": "code",
   "execution_count": 458,
   "id": "6a78c3c2",
   "metadata": {},
   "outputs": [
    {
     "data": {
      "text/plain": [
       "0.24626092767538157"
      ]
     },
     "execution_count": 458,
     "metadata": {},
     "output_type": "execute_result"
    }
   ],
   "source": [
    "mean_absolute_error(y_test, lr_random_cv.best_estimator_.predict(X_test))"
   ]
  },
  {
   "cell_type": "markdown",
   "id": "f779cb14",
   "metadata": {},
   "source": [
    "### Random forest regression model performance<a id='Random_forest_regression_model_performance'></a>"
   ]
  },
  {
   "cell_type": "code",
   "execution_count": 410,
   "id": "66f63811",
   "metadata": {},
   "outputs": [],
   "source": [
    "rf_neg_mae = cross_validate(rf_random_cv.best_estimator_, X_train, y_train, \n",
    "                            scoring='neg_mean_absolute_error', cv=5, n_jobs=-1)"
   ]
  },
  {
   "cell_type": "code",
   "execution_count": 411,
   "id": "65418a3f",
   "metadata": {},
   "outputs": [
    {
     "data": {
      "text/plain": [
       "(0.23600770838325813, 0.015869286984341112)"
      ]
     },
     "execution_count": 411,
     "metadata": {},
     "output_type": "execute_result"
    }
   ],
   "source": [
    "rf_mae_mean = np.mean(-1 * rf_neg_mae['test_score'])\n",
    "rf_mae_std = np.std(-1 * rf_neg_mae['test_score'])\n",
    "rf_mae_mean, rf_mae_std"
   ]
  },
  {
   "cell_type": "code",
   "execution_count": 412,
   "id": "09157248",
   "metadata": {},
   "outputs": [
    {
     "data": {
      "text/plain": [
       "0.23444432120674355"
      ]
     },
     "execution_count": 412,
     "metadata": {},
     "output_type": "execute_result"
    }
   ],
   "source": [
    "mean_absolute_error(y_test, rf_random_cv.best_estimator_.predict(X_test))"
   ]
  },
  {
   "cell_type": "markdown",
   "id": "ef58a92e",
   "metadata": {},
   "source": [
    "### Logistic regression model performance<a id='Logistic_regression_model_performance'></a>"
   ]
  },
  {
   "cell_type": "code",
   "execution_count": 413,
   "id": "e541a95a",
   "metadata": {},
   "outputs": [],
   "source": [
    "lg_neg_mae = cross_validate(lg_random_cv.best_estimator_, X_train, y_train, \n",
    "                            scoring='neg_mean_absolute_error', cv=5, n_jobs=-1)"
   ]
  },
  {
   "cell_type": "code",
   "execution_count": 414,
   "id": "317df461",
   "metadata": {},
   "outputs": [
    {
     "data": {
      "text/plain": [
       "(0.148556013963821, 0.033751033846965504)"
      ]
     },
     "execution_count": 414,
     "metadata": {},
     "output_type": "execute_result"
    }
   ],
   "source": [
    "lg_mae_mean = np.mean(-1 * lg_neg_mae['test_score'])\n",
    "lg_mae_std = np.std(-1 * lg_neg_mae['test_score'])\n",
    "lg_mae_mean, lg_mae_std"
   ]
  },
  {
   "cell_type": "code",
   "execution_count": 415,
   "id": "ac12c22e",
   "metadata": {},
   "outputs": [
    {
     "data": {
      "text/plain": [
       "0.11304347826086956"
      ]
     },
     "execution_count": 415,
     "metadata": {},
     "output_type": "execute_result"
    }
   ],
   "source": [
    "mean_absolute_error(y_test, lg_random_cv.best_estimator_.predict(X_test))"
   ]
  },
  {
   "cell_type": "markdown",
   "id": "b82e42d2",
   "metadata": {},
   "source": [
    "## Data quantity assessment<a id='Data_quantity_assessment'></a>"
   ]
  },
  {
   "cell_type": "code",
   "execution_count": 416,
   "id": "cadff701",
   "metadata": {},
   "outputs": [],
   "source": [
    "fractions = [.2, .25, .3, .35, .4, .45, .5, .6, .75, .8, 1.0]\n",
    "train_size, train_scores, test_scores = learning_curve(lg_pipe, X_train, y_train, train_sizes=fractions)\n",
    "train_scores_mean = np.mean(train_scores, axis=1)\n",
    "train_scores_std = np.std(train_scores, axis=1)\n",
    "test_scores_mean = np.mean(test_scores, axis=1)\n",
    "test_scores_std = np.std(test_scores, axis=1)"
   ]
  },
  {
   "cell_type": "code",
   "execution_count": 336,
   "id": "7b1502d2",
   "metadata": {},
   "outputs": [
    {
     "data": {
      "image/png": "[encoded data removed]",
      "text/plain": [
       "<Figure size 1000x500 with 1 Axes>"
      ]
     },
     "metadata": {},
     "output_type": "display_data"
    }
   ],
   "source": [
    "plt.subplots(figsize=(10, 5))\n",
    "plt.errorbar(train_size, test_scores_mean, yerr=test_scores_std)\n",
    "plt.xlabel('Training set size')\n",
    "plt.ylabel('CV scores')\n",
    "plt.title('Cross-validation score as training set size increases');"
   ]
  },
  {
   "cell_type": "markdown",
   "id": "8d989852",
   "metadata": {},
   "source": [
    "## Best Model from Pipeline<a id='Best_Model_from_Pipeline'></a>"
   ]
  },
  {
   "cell_type": "code",
   "execution_count": 337,
   "id": "d2af15e8",
   "metadata": {},
   "outputs": [],
   "source": [
    "best_model = lg_random_cv.best_estimator_\n",
    "best_model.version = 1.0\n",
    "best_model.pandas_version = pd.__version__\n",
    "best_model.numpy_version = np.__version__\n",
    "best_model.sklearn_version = sklearn_version\n",
    "best_model.X_columns = [col for col in X_train.columns]\n",
    "best_model.build_datetime = datetime.datetime.now()"
   ]
  },
  {
   "cell_type": "code",
   "execution_count": 338,
   "id": "18e2cb0b",
   "metadata": {},
   "outputs": [
    {
     "name": "stdout",
     "output_type": "stream",
     "text": [
      "Directory ../models was created.\n",
      "Writing file.  \"../models/heart_disease_model.pkl\"\n"
     ]
    }
   ],
   "source": [
    "# saveing model\n",
    "\n",
    "modelpath = '../models'\n",
    "save_file(best_model, 'heart_disease_model.pkl', modelpath)"
   ]
  },
  {
   "cell_type": "markdown",
   "id": "37a6e314",
   "metadata": {},
   "source": [
    "## Summary<a id='Summary'></a>"
   ]
  },
  {
   "cell_type": "markdown",
   "id": "19021907",
   "metadata": {},
   "source": [
    "To preprocess the provided data and determine the appropriate model for further analysis, I initiated the following steps. Firstly, I partitioned the data into a 75/25 train-test split. To establish a baseline, I conducted a test scenario where random predictions were generated uniformly, allowing me to assess the baseline model. Subsequently, I created three pipelines for modeling: linear regression, random forest, and logistic regression. These pipelines were fitted with the data, employing median imputation for missing values. With the pipelines ready, I efficiently trained, fine-tuned, and cross-validated each model, evaluating the outcomes.\n",
    "\n",
    "Comparing the results to the baseline model, which exhibited a mean absolute error of 0.42 in its test predictions, the linear regression model, with optimal hyperparameters, achieved a mean absolute error of 0.25. The random forest model followed with a mean absolute error of 0.23, while the logistic model yielded the lowest error of 0.11. Consequently, the logistic model proved to be the most accurate and suitable for our future predictions.\n",
    "\n",
    "Finally, I examined the cross-validation performance of the logistic model concerning the training size. Notably, the cross-validation demonstrated minimal variance after a training size of approximately 150. Based on this analysis, I determined that additional samples would not be necessary for further modeling.\n"
   ]
  }
 ],
 "metadata": {
  "kernelspec": {
   "display_name": "Python 3 (ipykernel)",
   "language": "python",
   "name": "python3"
  },
  "language_info": {
   "codemirror_mode": {
    "name": "ipython",
    "version": 3
   },
   "file_extension": ".py",
   "mimetype": "text/x-python",
   "name": "python",
   "nbconvert_exporter": "python",
   "pygments_lexer": "ipython3",
   "version": "3.9.13"
  }
 },
 "nbformat": 4,
 "nbformat_minor": 5
}
